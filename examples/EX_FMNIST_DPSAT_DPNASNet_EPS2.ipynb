{
 "cells": [
  {
   "cell_type": "code",
   "execution_count": 1,
   "id": "2e1379b7",
   "metadata": {},
   "outputs": [],
   "source": [
    "import os\n",
    "import numpy as np\n",
    "import torch\n",
    "import warnings\n",
    "\n",
    "warnings.filterwarnings(\"ignore\")\n",
    "if os.getcwd()[-8:]=='examples':\n",
    "    os.chdir('..')\n",
    "\n",
    "os.environ[\"CUDA_VISIBLE_DEVICES\"] = \"3\" # Possible GPUS"
   ]
  },
  {
   "cell_type": "code",
   "execution_count": 2,
   "id": "4504274b",
   "metadata": {},
   "outputs": [],
   "source": [
    "import torch.nn as nn\n",
    "import torch.optim as optim\n",
    "import torchvision.transforms as transforms\n",
    "import importlib\n",
    "\n",
    "from opacus import PrivacyEngine\n",
    "from opacus.validators import ModuleValidator\n",
    "\n",
    "import src\n",
    "import src.trainer as tr"
   ]
  },
  {
   "cell_type": "markdown",
   "id": "45205af5",
   "metadata": {},
   "source": [
    "### Settings"
   ]
  },
  {
   "cell_type": "code",
   "execution_count": 3,
   "id": "7637d6b6",
   "metadata": {},
   "outputs": [],
   "source": [
    "#### FOR DP\n",
    "MAX_GRAD_NORM = 0.1\n",
    "EPSILON = 2.0\n",
    "DELTA = 1e-5\n",
    "\n",
    "#### FOR TRAINING\n",
    "LR = 2\n",
    "EPOCHS = 40\n",
    "BATCH_SIZE = 2048\n",
    "MAX_PHYSICAL_BATCH_SIZE = 1024\n",
    "RHO = 0.03\n",
    "\n",
    "#### FOR SAVE\n",
    "PATH = \"./saved/\"\n",
    "NAME = \"FMNIST_DPNAS_DPSAT_EPS2\"\n",
    "SAVE_PATH = PATH + NAME\n",
    "\n",
    "### FOR MODELING\n",
    "MODEL_NAME = \"DPNASNet_FMNIST\"\n",
    "DATA = \"FashionMNIST\"\n",
    "NORMALIZE = {'mean':[0.1307],\n",
    "             'std':[0.3081]}\n",
    "N_CLASSES = 10"
   ]
  },
  {
   "cell_type": "markdown",
   "id": "69d3fddb",
   "metadata": {},
   "source": [
    "### Data loader"
   ]
  },
  {
   "cell_type": "code",
   "execution_count": 4,
   "id": "8d2186ab",
   "metadata": {},
   "outputs": [
    {
     "name": "stdout",
     "output_type": "stream",
     "text": [
      "Data Loaded!\n",
      "Train Data Length : 60000\n",
      "Test Data Length : 10000\n"
     ]
    }
   ],
   "source": [
    "data = src.Datasets(data_name=DATA, train_transform = transforms.ToTensor())\n",
    "train_loader, test_loader = data.get_loader(batch_size=BATCH_SIZE, drop_last_train=False, num_workers=16)"
   ]
  },
  {
   "cell_type": "markdown",
   "id": "f44251a2",
   "metadata": {
    "id": "EcestuJGdLLM"
   },
   "source": [
    "### Model & Optimizer"
   ]
  },
  {
   "cell_type": "code",
   "execution_count": 5,
   "id": "5c05d5f9",
   "metadata": {
    "scrolled": true
   },
   "outputs": [
    {
     "name": "stdout",
     "output_type": "stream",
     "text": [
      "[(3, 0, 1), (0, 0, 2), (5, 1, 2), (4, 0, 3), (5, 1, 3), (3, 2, 3), (0, 0, 4), (0, 1, 4), (6, 2, 4), (3, 3, 4), (5, 0, 5), (6, 1, 5), (1, 2, 5), (4, 3, 5), (1, 4, 5)]\n",
      "DPNASNet_FMNIST is loaded.\n",
      "model params: 0.2146M\n"
     ]
    }
   ],
   "source": [
    "#### Load model\n",
    "model = src.utils.load_model(model_name=MODEL_NAME, n_classes=N_CLASSES).cuda() # Load model\n",
    "model = ModuleValidator.fix(model)\n",
    "ModuleValidator.validate(model, strict=False)\n",
    "\n",
    "pytorch_total_params = sum(p.numel() for p in model.parameters())\n",
    "\n",
    "print(\"model params: {:.4f}M\".format(pytorch_total_params/1000000))\n",
    "\n",
    "#### Define optimizer\n",
    "optimizer = torch.optim.SGD(model.parameters(),lr=LR, momentum=0.9)"
   ]
  },
  {
   "cell_type": "markdown",
   "id": "c49acb21",
   "metadata": {},
   "source": [
    "### Load PrivacyEngine from Opacus"
   ]
  },
  {
   "cell_type": "code",
   "execution_count": 6,
   "id": "1052ab28",
   "metadata": {},
   "outputs": [
    {
     "name": "stdout",
     "output_type": "stream",
     "text": [
      "Using sigma=2.63671875 and C=0.1\n"
     ]
    }
   ],
   "source": [
    "privacy_engine = PrivacyEngine()\n",
    "\n",
    "model, optimizer, train_loader = privacy_engine.make_private_with_epsilon(\n",
    "    module=model,\n",
    "    optimizer=optimizer,\n",
    "    data_loader=train_loader,\n",
    "    epochs=EPOCHS,\n",
    "    target_epsilon=EPSILON,\n",
    "    target_delta=DELTA,\n",
    "    max_grad_norm=MAX_GRAD_NORM,\n",
    ")\n",
    "\n",
    "optimizer.target_epsilon = EPSILON\n",
    "optimizer.target_delta = DELTA\n",
    "\n",
    "print(f\"Using sigma={optimizer.noise_multiplier} and C={MAX_GRAD_NORM}\")\n",
    "# 2.0664\n",
    "\n",
    "rmodel = src.RobModel(model, n_classes=N_CLASSES, normalize=NORMALIZE).cuda()"
   ]
  },
  {
   "cell_type": "markdown",
   "id": "d84b5e92",
   "metadata": {},
   "source": [
    "### Start Training"
   ]
  },
  {
   "cell_type": "code",
   "execution_count": 7,
   "id": "d3eaf86b",
   "metadata": {
    "scrolled": true
   },
   "outputs": [],
   "source": [
    "importlib.reload(tr)\n",
    "\n",
    "trainer = tr.DpTrainer(NAME,rmodel)\n",
    "trainer.max_physical_batch_size = MAX_PHYSICAL_BATCH_SIZE\n",
    "trainer.record_rob(train_loader, test_loader)"
   ]
  },
  {
   "cell_type": "code",
   "execution_count": 8,
   "id": "1d606ba9",
   "metadata": {
    "scrolled": true
   },
   "outputs": [
    {
     "name": "stdout",
     "output_type": "stream",
     "text": [
      "[FMNIST_DPNAS_DPSAT_EPS2]\n",
      "Training Information.\n",
      "-Epochs: 40\n",
      "-Optimizer: SGD (\n",
      "Parameter Group 0\n",
      "    dampening: 0\n",
      "    lr: 2\n",
      "    momentum: 0.9\n",
      "    nesterov: False\n",
      "    weight_decay: 0\n",
      ")\n",
      "-Scheduler: None\n",
      "-Save Path: ./saved/FMNIST_DPNAS_DPSAT_EPS2\n",
      "-Save Type: None\n",
      "-Record Type: Epoch\n",
      "-Device: cuda:0\n",
      "----------------------------------------------------------\n",
      "Epoch   CALoss^p   Clean(Tr)   Clean(Val)   lr   Sec/it   \n",
      "==========================================================\n",
      "1       1.4314     70.7561     70.4500      2    0.1813   \n",
      "----------------------------------------------------------\n",
      "2       0.7758     77.0851     75.9300      2    0.3434   \n",
      "----------------------------------------------------------\n",
      "3       0.8744     79.4842     78.9200      2    0.3407   \n",
      "----------------------------------------------------------\n",
      "4       0.8307     81.8538     80.9900      2    0.3653   \n",
      "----------------------------------------------------------\n",
      "5       0.7579     83.1032     82.2700      2    0.3888   \n",
      "----------------------------------------------------------\n",
      "6       0.7452     83.5827     82.7500      2    0.3623   \n",
      "----------------------------------------------------------\n",
      "7       0.7126     84.1971     83.2200      2    0.3650   \n",
      "----------------------------------------------------------\n",
      "8       0.6940     85.3390     84.5100      2    0.3696   \n",
      "----------------------------------------------------------\n",
      "9       0.6608     85.7799     84.8400      2    0.3521   \n",
      "----------------------------------------------------------\n",
      "10      0.6562     85.8876     84.7600      2    0.3645   \n",
      "----------------------------------------------------------\n",
      "11      0.6624     86.0584     84.7100      2    0.3509   \n",
      "----------------------------------------------------------\n",
      "12      0.6629     86.5721     85.5800      2    0.3537   \n",
      "----------------------------------------------------------\n",
      "13      0.6260     86.6749     85.3700      2    0.3637   \n",
      "----------------------------------------------------------\n",
      "14      0.6436     87.2286     85.8600      2    0.3851   \n",
      "----------------------------------------------------------\n",
      "15      0.6387     86.8882     85.8700      2    0.3967   \n",
      "----------------------------------------------------------\n",
      "16      0.6289     87.0017     86.0500      2    0.4012   \n",
      "----------------------------------------------------------\n",
      "17      0.6004     87.0115     86.0700      2    0.3958   \n",
      "----------------------------------------------------------\n",
      "18      0.6169     87.4224     86.3800      2    0.3692   \n",
      "----------------------------------------------------------\n",
      "19      0.6367     87.2516     86.2900      2    0.3976   \n",
      "----------------------------------------------------------\n",
      "20      0.6457     86.9760     85.8200      2    0.3957   \n",
      "----------------------------------------------------------\n",
      "21      0.6620     87.4494     86.1700      2    0.3773   \n",
      "----------------------------------------------------------\n",
      "22      0.6144     87.8842     86.4900      2    0.3825   \n",
      "----------------------------------------------------------\n",
      "23      0.6055     87.2944     86.5000      2    0.4030   \n",
      "----------------------------------------------------------\n",
      "24      0.6114     87.8954     86.6900      2    0.3809   \n",
      "----------------------------------------------------------\n",
      "25      0.5987     87.8669     86.5000      2    0.3724   \n",
      "----------------------------------------------------------\n",
      "26      0.6008     88.1520     86.7800      2    0.3964   \n",
      "----------------------------------------------------------\n",
      "27      0.6032     88.3026     86.9900      2    0.3783   \n",
      "----------------------------------------------------------\n",
      "28      0.6061     87.9330     86.7900      2    0.3881   \n",
      "----------------------------------------------------------\n",
      "29      0.5972     88.1606     87.2000      2    0.3952   \n",
      "----------------------------------------------------------\n",
      "30      0.5932     88.3324     87.2700      2    0.3763   \n",
      "----------------------------------------------------------\n",
      "31      0.6186     88.4103     87.2500      2    0.3550   \n",
      "----------------------------------------------------------\n",
      "32      0.6065     88.3132     87.4100      2    0.3742   \n",
      "----------------------------------------------------------\n",
      "33      0.6346     88.3558     87.3800      2    0.3834   \n",
      "----------------------------------------------------------\n",
      "34      0.5961     88.6749     87.4600      2    0.3743   \n",
      "----------------------------------------------------------\n",
      "35      0.5987     88.7773     87.4100      2    0.3806   \n",
      "----------------------------------------------------------\n",
      "36      0.5810     88.7214     87.6000      2    0.3798   \n",
      "----------------------------------------------------------\n",
      "37      0.5850     88.8448     87.8800      2    0.3863   \n",
      "----------------------------------------------------------\n",
      "38      0.5921     88.7592     87.8200      2    0.3774   \n",
      "----------------------------------------------------------\n",
      "39      0.6084     88.8646     87.9100      2    0.3777   \n",
      "----------------------------------------------------------\n",
      "40      0.6019     88.6454     87.4800      2    0.3787   \n",
      "----------------------------------------------------------\n",
      "==========================================================\n",
      "Total Epoch: 40\n",
      "Start Time: 2023-07-23 15:02:54.672907\n",
      "Time Elapsed: 0:16:00.753616\n",
      "Min(epoch)/Max(epoch): \n",
      "-CALoss^p: 0.5810(36)/1.4314(1)\n",
      "-Clean(Tr): 70.7561(1)/88.8646(39)\n",
      "-Clean(Val): 70.4500(1)/87.9100(39)\n",
      "-lr: 2.0000(1)/2.0000(1)\n",
      "-Sec/it: 0.1813(1)/0.4030(23)\n",
      "----------------------------------------------------------\n"
     ]
    }
   ],
   "source": [
    "trainer.fit(train_loader=train_loader, max_epoch=EPOCHS, start_epoch=0,\n",
    "            optimizer=optimizer,\n",
    "            scheduler=None, scheduler_type=\"Epoch\",\n",
    "            minimizer=\"DPSAT(rho={})\".format(RHO),\n",
    "            save_path=SAVE_PATH, save_best={\"Clean(Val)\":\"HB\"},\n",
    "            save_type=None, save_overwrite=True, record_type=\"Epoch\")"
   ]
  },
  {
   "cell_type": "markdown",
   "id": "ebf1db40",
   "metadata": {},
   "source": [
    "### Evaluation"
   ]
  },
  {
   "cell_type": "code",
   "execution_count": 9,
   "id": "0145f440",
   "metadata": {
    "scrolled": false
   },
   "outputs": [
    {
     "name": "stdout",
     "output_type": "stream",
     "text": [
      "Model loaded.\n",
      "Record Info:\n",
      "OrderedDict([('Epoch', 40), ('CALoss^p', 0.6019183518365026), ('Clean(Tr)', 88.64538510290537), ('Clean(Val)', 87.48), ('lr', 2)])\n"
     ]
    },
    {
     "data": {
      "text/plain": [
       "87.48"
      ]
     },
     "execution_count": 9,
     "metadata": {},
     "output_type": "execute_result"
    }
   ],
   "source": [
    "rmodel.load_dict(PATH+NAME+'/last.pth')\n",
    "rmodel.eval_accuracy(test_loader)"
   ]
  },
  {
   "cell_type": "code",
   "execution_count": 10,
   "id": "f5737d86",
   "metadata": {
    "scrolled": false
   },
   "outputs": [
    {
     "name": "stdout",
     "output_type": "stream",
     "text": [
      "Model loaded.\n",
      "Record Info:\n",
      "OrderedDict([('Epoch', 39), ('CALoss^p', 0.6083725785452222), ('Clean(Tr)', 88.8646470029812), ('Clean(Val)', 87.91), ('lr', 2)])\n"
     ]
    },
    {
     "data": {
      "text/plain": [
       "87.91"
      ]
     },
     "execution_count": 10,
     "metadata": {},
     "output_type": "execute_result"
    }
   ],
   "source": [
    "rmodel.load_dict(PATH+NAME+'/best.pth')\n",
    "rmodel.eval_accuracy(test_loader)"
   ]
  },
  {
   "cell_type": "code",
   "execution_count": null,
   "id": "93257278",
   "metadata": {},
   "outputs": [],
   "source": []
  }
 ],
 "metadata": {
  "kernelspec": {
   "display_name": "dpsat",
   "language": "python",
   "name": "dpsat"
  },
  "language_info": {
   "codemirror_mode": {
    "name": "ipython",
    "version": 3
   },
   "file_extension": ".py",
   "mimetype": "text/x-python",
   "name": "python",
   "nbconvert_exporter": "python",
   "pygments_lexer": "ipython3",
   "version": "3.9.7"
  }
 },
 "nbformat": 4,
 "nbformat_minor": 5
}

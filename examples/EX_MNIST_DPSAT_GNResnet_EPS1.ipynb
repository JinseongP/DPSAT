{
 "cells": [
  {
   "cell_type": "code",
   "execution_count": 1,
   "id": "2e1379b7",
   "metadata": {},
   "outputs": [],
   "source": [
    "import os\n",
    "import numpy as np\n",
    "import torch\n",
    "import warnings\n",
    "\n",
    "warnings.filterwarnings(\"ignore\")\n",
    "if os.getcwd()[-8:]=='examples':\n",
    "    os.chdir('..')\n",
    "\n",
    "os.environ[\"CUDA_VISIBLE_DEVICES\"] = \"3\" # Possible GPUS"
   ]
  },
  {
   "cell_type": "code",
   "execution_count": 2,
   "id": "4504274b",
   "metadata": {},
   "outputs": [],
   "source": [
    "import torch.nn as nn\n",
    "import torch.optim as optim\n",
    "import torchvision.transforms as transforms\n",
    "import importlib\n",
    "\n",
    "from opacus import PrivacyEngine\n",
    "from opacus.validators import ModuleValidator\n",
    "\n",
    "import src\n",
    "import src.trainer as tr"
   ]
  },
  {
   "cell_type": "markdown",
   "id": "45205af5",
   "metadata": {},
   "source": [
    "### Settings"
   ]
  },
  {
   "cell_type": "code",
   "execution_count": 3,
   "id": "7637d6b6",
   "metadata": {},
   "outputs": [],
   "source": [
    "#### FOR DP\n",
    "MAX_GRAD_NORM = 0.1\n",
    "EPSILON = 1.0\n",
    "DELTA = 1e-5\n",
    "\n",
    "#### FOR TRAINING\n",
    "LR = 2\n",
    "EPOCHS = 40\n",
    "BATCH_SIZE = 2048\n",
    "MAX_PHYSICAL_BATCH_SIZE = 256\n",
    "RHO = 0.03\n",
    "\n",
    "#### FOR SAVE\n",
    "PATH = \"./saved/\"\n",
    "NAME = \"MNIST_DPSAT_GNResnet_EPS1\"\n",
    "SAVE_PATH = PATH + NAME\n",
    "\n",
    "### FOR MODELING\n",
    "MODEL_NAME = \"ResNet10\"\n",
    "DATA = \"MNIST\"\n",
    "NORMALIZE = {'mean':[0.1307],\n",
    "             'std':[0.3081]}\n",
    "N_CLASSES = 10"
   ]
  },
  {
   "cell_type": "markdown",
   "id": "69d3fddb",
   "metadata": {},
   "source": [
    "### Data loader"
   ]
  },
  {
   "cell_type": "code",
   "execution_count": 4,
   "id": "8d2186ab",
   "metadata": {},
   "outputs": [
    {
     "name": "stdout",
     "output_type": "stream",
     "text": [
      "Data Loaded!\n",
      "Train Data Length : 60000\n",
      "Test Data Length : 10000\n"
     ]
    }
   ],
   "source": [
    "data = src.Datasets(data_name=DATA, train_transform = transforms.ToTensor())\n",
    "train_loader, test_loader = data.get_loader(batch_size=BATCH_SIZE, drop_last_train=False, num_workers=16)"
   ]
  },
  {
   "cell_type": "markdown",
   "id": "f44251a2",
   "metadata": {
    "id": "EcestuJGdLLM"
   },
   "source": [
    "### Model & Optimizer"
   ]
  },
  {
   "cell_type": "code",
   "execution_count": 5,
   "id": "5c05d5f9",
   "metadata": {
    "scrolled": true
   },
   "outputs": [
    {
     "name": "stdout",
     "output_type": "stream",
     "text": [
      "ResNet10 is loaded.\n",
      "model params: 4.9021M\n"
     ]
    }
   ],
   "source": [
    "#### Load model\n",
    "model = src.utils.load_model(model_name=MODEL_NAME, n_classes=N_CLASSES).cuda() # Load model\n",
    "model = ModuleValidator.fix(model)\n",
    "ModuleValidator.validate(model, strict=False)\n",
    "\n",
    "pytorch_total_params = sum(p.numel() for p in model.parameters())\n",
    "\n",
    "print(\"model params: {:.4f}M\".format(pytorch_total_params/1000000))\n",
    "\n",
    "#### Define optimizer\n",
    "optimizer = torch.optim.SGD(model.parameters(),lr=LR, momentum=0.9)"
   ]
  },
  {
   "cell_type": "markdown",
   "id": "c49acb21",
   "metadata": {},
   "source": [
    "### Load PrivacyEngine from Opacus"
   ]
  },
  {
   "cell_type": "code",
   "execution_count": 6,
   "id": "1052ab28",
   "metadata": {},
   "outputs": [
    {
     "name": "stdout",
     "output_type": "stream",
     "text": [
      "Using sigma=4.8046875 and C=0.1\n"
     ]
    }
   ],
   "source": [
    "privacy_engine = PrivacyEngine()\n",
    "\n",
    "model, optimizer, train_loader = privacy_engine.make_private_with_epsilon(\n",
    "    module=model,\n",
    "    optimizer=optimizer,\n",
    "    data_loader=train_loader,\n",
    "    epochs=EPOCHS,\n",
    "    target_epsilon=EPSILON,\n",
    "    target_delta=DELTA,\n",
    "    max_grad_norm=MAX_GRAD_NORM,\n",
    ")\n",
    "\n",
    "optimizer.target_epsilon = EPSILON\n",
    "optimizer.target_delta = DELTA\n",
    "\n",
    "print(f\"Using sigma={optimizer.noise_multiplier} and C={MAX_GRAD_NORM}\")\n",
    "# 2.0664\n",
    "\n",
    "rmodel = src.RobModel(model, n_classes=N_CLASSES, normalize=NORMALIZE).cuda()"
   ]
  },
  {
   "cell_type": "markdown",
   "id": "d84b5e92",
   "metadata": {},
   "source": [
    "### Start Training"
   ]
  },
  {
   "cell_type": "code",
   "execution_count": 7,
   "id": "d3eaf86b",
   "metadata": {
    "scrolled": true
   },
   "outputs": [],
   "source": [
    "importlib.reload(tr)\n",
    "\n",
    "trainer = tr.DpTrainer(NAME,rmodel)\n",
    "trainer.max_physical_batch_size = MAX_PHYSICAL_BATCH_SIZE\n",
    "trainer.record_rob(train_loader, test_loader)"
   ]
  },
  {
   "cell_type": "code",
   "execution_count": 8,
   "id": "1d606ba9",
   "metadata": {
    "scrolled": true
   },
   "outputs": [
    {
     "name": "stdout",
     "output_type": "stream",
     "text": [
      "Warning! Save file(s) will be overwritten:./saved/MNIST_DPSAT_GNResnet_EPS1\n",
      "Warning! Save file(s) will be overwritten:./saved/MNIST_DPSAT_GNResnet_EPS1/last.pth\n",
      "Warning! Save file(s) will be overwritten:./saved/MNIST_DPSAT_GNResnet_EPS1/best.pth\n",
      "Warning! Save file(s) will be overwritten:./saved/MNIST_DPSAT_GNResnet_EPS1/record.csv\n",
      "[MNIST_DPSAT_GNResnet_EPS1]\n",
      "Training Information.\n",
      "-Epochs: 40\n",
      "-Optimizer: SGD (\n",
      "Parameter Group 0\n",
      "    dampening: 0\n",
      "    lr: 2\n",
      "    momentum: 0.9\n",
      "    nesterov: False\n",
      "    weight_decay: 0\n",
      ")\n",
      "-Scheduler: None\n",
      "-Save Path: ./saved/MNIST_DPSAT_GNResnet_EPS1\n",
      "-Save Type: None\n",
      "-Record Type: Epoch\n",
      "-Device: cuda:0\n",
      "----------------------------------------------------------\n",
      "Epoch   CALoss^p   Clean(Tr)   Clean(Val)   lr   Sec/it   \n",
      "==========================================================\n",
      "1       1.9467     52.8483     52.7800      2    0.1246   \n",
      "----------------------------------------------------------\n",
      "2       1.2943     63.0841     62.9200      2    0.1753   \n",
      "----------------------------------------------------------\n",
      "3       1.0548     71.2889     71.6300      2    0.1716   \n",
      "----------------------------------------------------------\n",
      "4       0.8772     77.1147     77.3600      2    0.1703   \n",
      "----------------------------------------------------------\n",
      "5       0.7491     78.8634     80.1100      2    0.1710   \n",
      "----------------------------------------------------------\n",
      "6       0.6663     82.0024     82.9700      2    0.1744   \n",
      "----------------------------------------------------------\n",
      "7       0.6292     81.8405     82.6000      2    0.1696   \n",
      "----------------------------------------------------------\n",
      "8       0.5460     82.8944     83.5700      2    0.1709   \n",
      "----------------------------------------------------------\n",
      "9       0.4385     89.4136     90.0500      2    0.1740   \n",
      "----------------------------------------------------------\n",
      "10      0.3585     90.7393     91.2500      2    0.1756   \n",
      "----------------------------------------------------------\n",
      "11      0.3357     90.5144     91.3100      2    0.1701   \n",
      "----------------------------------------------------------\n",
      "12      0.3048     92.5645     93.1700      2    0.1703   \n",
      "----------------------------------------------------------\n",
      "13      0.2860     92.3550     93.4000      2    0.1665   \n",
      "----------------------------------------------------------\n",
      "14      0.2630     92.8833     93.6000      2    0.1706   \n",
      "----------------------------------------------------------\n",
      "15      0.2565     93.5899     94.1300      2    0.1673   \n",
      "----------------------------------------------------------\n",
      "16      0.2349     93.2527     93.9000      2    0.1682   \n",
      "----------------------------------------------------------\n",
      "17      0.2482     93.8238     94.6000      2    0.1740   \n",
      "----------------------------------------------------------\n",
      "18      0.2259     93.7389     94.6000      2    0.1688   \n",
      "----------------------------------------------------------\n",
      "19      0.2425     94.0533     94.6000      2    0.1718   \n",
      "----------------------------------------------------------\n",
      "20      0.2330     94.3874     94.8900      2    0.1679   \n",
      "----------------------------------------------------------\n",
      "21      0.2231     94.6644     95.0500      2    0.1728   \n",
      "----------------------------------------------------------\n",
      "22      0.2127     94.8185     95.0100      2    0.1744   \n",
      "----------------------------------------------------------\n",
      "23      0.2045     94.6865     95.3200      2    0.1684   \n",
      "----------------------------------------------------------\n",
      "24      0.1899     95.1080     95.3100      2    0.1729   \n",
      "----------------------------------------------------------\n",
      "25      0.1911     95.0110     95.4800      2    0.1713   \n",
      "----------------------------------------------------------\n",
      "26      0.1888     95.0046     95.6000      2    0.1742   \n",
      "----------------------------------------------------------\n",
      "27      0.1865     95.1055     95.3600      2    0.1688   \n",
      "----------------------------------------------------------\n",
      "28      0.1922     95.3284     95.7200      2    0.1675   \n",
      "----------------------------------------------------------\n",
      "29      0.1828     95.3372     95.6600      2    0.1718   \n",
      "----------------------------------------------------------\n",
      "30      0.1766     95.3133     95.8700      2    0.1734   \n",
      "----------------------------------------------------------\n",
      "31      0.1867     95.2651     95.7200      2    0.1675   \n",
      "----------------------------------------------------------\n",
      "32      0.1884     95.2062     95.6900      2    0.1648   \n",
      "----------------------------------------------------------\n",
      "33      0.1887     95.2060     95.5200      2    0.1702   \n",
      "----------------------------------------------------------\n",
      "34      0.1885     95.6990     95.9900      2    0.1691   \n",
      "----------------------------------------------------------\n",
      "35      0.1955     95.4636     96.0800      2    0.1702   \n",
      "----------------------------------------------------------\n",
      "36      0.1839     95.5695     95.8300      2    0.1698   \n",
      "----------------------------------------------------------\n",
      "37      0.1827     95.3146     95.7400      2    0.1688   \n",
      "----------------------------------------------------------\n",
      "38      0.1846     95.2139     95.6900      2    0.1640   \n",
      "----------------------------------------------------------\n",
      "39      0.1837     95.3391     95.5700      2    0.1698   \n",
      "----------------------------------------------------------\n",
      "40      0.1883     95.5636     95.9900      2    0.1677   \n",
      "----------------------------------------------------------\n",
      "==========================================================\n",
      "Total Epoch: 40\n",
      "Start Time: 2023-07-23 21:02:43.066774\n",
      "Time Elapsed: 0:27:46.740758\n",
      "Min(epoch)/Max(epoch): \n",
      "-CALoss^p: 0.1766(30)/1.9467(1)\n",
      "-Clean(Tr): 52.8483(1)/95.6990(34)\n",
      "-Clean(Val): 52.7800(1)/96.0800(35)\n",
      "-lr: 2.0000(1)/2.0000(1)\n",
      "-Sec/it: 0.1246(1)/0.1756(10)\n",
      "----------------------------------------------------------\n"
     ]
    }
   ],
   "source": [
    "trainer.fit(train_loader=train_loader, max_epoch=EPOCHS, start_epoch=0,\n",
    "            optimizer=optimizer,\n",
    "            scheduler=None, scheduler_type=\"Epoch\",\n",
    "            minimizer=\"DPSAT(rho={})\".format(RHO),\n",
    "            save_path=SAVE_PATH, save_best={\"Clean(Val)\":\"HB\"},\n",
    "            save_type=None, save_overwrite=True, record_type=\"Epoch\")"
   ]
  },
  {
   "cell_type": "markdown",
   "id": "ebf1db40",
   "metadata": {},
   "source": [
    "### Evaluation"
   ]
  },
  {
   "cell_type": "code",
   "execution_count": 9,
   "id": "0145f440",
   "metadata": {
    "scrolled": false
   },
   "outputs": [
    {
     "name": "stdout",
     "output_type": "stream",
     "text": [
      "Model loaded.\n",
      "Record Info:\n",
      "OrderedDict([('Epoch', 40), ('CALoss^p', 0.18831077214964198), ('Clean(Tr)', 95.5636290913939), ('Clean(Val)', 95.99), ('lr', 2)])\n"
     ]
    },
    {
     "data": {
      "text/plain": [
       "95.99"
      ]
     },
     "execution_count": 9,
     "metadata": {},
     "output_type": "execute_result"
    }
   ],
   "source": [
    "rmodel.load_dict(PATH+NAME+'/last.pth')\n",
    "rmodel.eval_accuracy(test_loader)"
   ]
  },
  {
   "cell_type": "code",
   "execution_count": 10,
   "id": "f5737d86",
   "metadata": {
    "scrolled": false
   },
   "outputs": [
    {
     "name": "stdout",
     "output_type": "stream",
     "text": [
      "Model loaded.\n",
      "Record Info:\n",
      "OrderedDict([('Epoch', 35), ('CALoss^p', 0.19553126779643826), ('Clean(Tr)', 95.46356015532557), ('Clean(Val)', 96.08), ('lr', 2)])\n"
     ]
    },
    {
     "data": {
      "text/plain": [
       "96.08"
      ]
     },
     "execution_count": 10,
     "metadata": {},
     "output_type": "execute_result"
    }
   ],
   "source": [
    "rmodel.load_dict(PATH+NAME+'/best.pth')\n",
    "rmodel.eval_accuracy(test_loader)"
   ]
  },
  {
   "cell_type": "code",
   "execution_count": null,
   "id": "93257278",
   "metadata": {},
   "outputs": [],
   "source": []
  }
 ],
 "metadata": {
  "kernelspec": {
   "display_name": "dpsat",
   "language": "python",
   "name": "dpsat"
  },
  "language_info": {
   "codemirror_mode": {
    "name": "ipython",
    "version": 3
   },
   "file_extension": ".py",
   "mimetype": "text/x-python",
   "name": "python",
   "nbconvert_exporter": "python",
   "pygments_lexer": "ipython3",
   "version": "3.9.7"
  }
 },
 "nbformat": 4,
 "nbformat_minor": 5
}

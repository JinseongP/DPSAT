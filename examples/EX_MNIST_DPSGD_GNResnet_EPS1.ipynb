{
 "cells": [
  {
   "cell_type": "code",
   "execution_count": 1,
   "id": "2e1379b7",
   "metadata": {},
   "outputs": [],
   "source": [
    "import os\n",
    "import numpy as np\n",
    "import torch\n",
    "import warnings\n",
    "\n",
    "warnings.filterwarnings(\"ignore\")\n",
    "if os.getcwd()[-8:]=='examples':\n",
    "    os.chdir('..')\n",
    "\n",
    "os.environ[\"CUDA_VISIBLE_DEVICES\"] = \"0\" # Possible GPUS"
   ]
  },
  {
   "cell_type": "code",
   "execution_count": 2,
   "id": "4504274b",
   "metadata": {},
   "outputs": [],
   "source": [
    "import torch.nn as nn\n",
    "import torch.optim as optim\n",
    "import torchvision.transforms as transforms\n",
    "import importlib\n",
    "\n",
    "from opacus import PrivacyEngine\n",
    "from opacus.validators import ModuleValidator\n",
    "\n",
    "import src\n",
    "import src.trainer as tr"
   ]
  },
  {
   "cell_type": "markdown",
   "id": "45205af5",
   "metadata": {},
   "source": [
    "### Settings"
   ]
  },
  {
   "cell_type": "code",
   "execution_count": 3,
   "id": "7637d6b6",
   "metadata": {},
   "outputs": [],
   "source": [
    "#### FOR DP\n",
    "MAX_GRAD_NORM = 0.1\n",
    "EPSILON = 1.0\n",
    "DELTA = 1e-5\n",
    "\n",
    "#### FOR TRAINING\n",
    "LR = 2\n",
    "EPOCHS = 40\n",
    "BATCH_SIZE = 2048\n",
    "MAX_PHYSICAL_BATCH_SIZE = 256\n",
    "\n",
    "#### FOR SAVE\n",
    "PATH = \"./saved/\"\n",
    "NAME = \"MNIST_DPSGD_GNResnet_EPS1\"\n",
    "SAVE_PATH = PATH + NAME\n",
    "\n",
    "### FOR MODELING\n",
    "MODEL_NAME = \"ResNet10\"\n",
    "DATA = \"MNIST\"\n",
    "NORMALIZE = {'mean':[0.1307],\n",
    "             'std':[0.3081]}\n",
    "N_CLASSES = 10"
   ]
  },
  {
   "cell_type": "markdown",
   "id": "69d3fddb",
   "metadata": {},
   "source": [
    "### Data loader"
   ]
  },
  {
   "cell_type": "code",
   "execution_count": 4,
   "id": "8d2186ab",
   "metadata": {},
   "outputs": [
    {
     "name": "stdout",
     "output_type": "stream",
     "text": [
      "Data Loaded!\n",
      "Train Data Length : 60000\n",
      "Test Data Length : 10000\n"
     ]
    }
   ],
   "source": [
    "data = src.Datasets(data_name=DATA, train_transform = transforms.ToTensor())\n",
    "train_loader, test_loader = data.get_loader(batch_size=BATCH_SIZE, drop_last_train=False, num_workers=16)"
   ]
  },
  {
   "cell_type": "markdown",
   "id": "f44251a2",
   "metadata": {
    "id": "EcestuJGdLLM"
   },
   "source": [
    "### Model & Optimizer"
   ]
  },
  {
   "cell_type": "code",
   "execution_count": 5,
   "id": "5c05d5f9",
   "metadata": {
    "scrolled": true
   },
   "outputs": [
    {
     "name": "stdout",
     "output_type": "stream",
     "text": [
      "ResNet10 is loaded.\n",
      "model params: 4.9021M\n"
     ]
    }
   ],
   "source": [
    "#### Load model\n",
    "model = src.utils.load_model(model_name=MODEL_NAME, n_classes=N_CLASSES).cuda() # Load model\n",
    "model = ModuleValidator.fix(model)\n",
    "ModuleValidator.validate(model, strict=False)\n",
    "\n",
    "pytorch_total_params = sum(p.numel() for p in model.parameters())\n",
    "\n",
    "print(\"model params: {:.4f}M\".format(pytorch_total_params/1000000))\n",
    "\n",
    "#### Define optimizer\n",
    "optimizer = torch.optim.SGD(model.parameters(),lr=LR, momentum=0.9)"
   ]
  },
  {
   "cell_type": "markdown",
   "id": "c49acb21",
   "metadata": {},
   "source": [
    "### Load PrivacyEngine from Opacus"
   ]
  },
  {
   "cell_type": "code",
   "execution_count": 6,
   "id": "1052ab28",
   "metadata": {},
   "outputs": [
    {
     "name": "stdout",
     "output_type": "stream",
     "text": [
      "Using sigma=4.8046875 and C=0.1\n"
     ]
    }
   ],
   "source": [
    "privacy_engine = PrivacyEngine()\n",
    "\n",
    "model, optimizer, train_loader = privacy_engine.make_private_with_epsilon(\n",
    "    module=model,\n",
    "    optimizer=optimizer,\n",
    "    data_loader=train_loader,\n",
    "    epochs=EPOCHS,\n",
    "    target_epsilon=EPSILON,\n",
    "    target_delta=DELTA,\n",
    "    max_grad_norm=MAX_GRAD_NORM,\n",
    ")\n",
    "\n",
    "optimizer.target_epsilon = EPSILON\n",
    "optimizer.target_delta = DELTA\n",
    "\n",
    "print(f\"Using sigma={optimizer.noise_multiplier} and C={MAX_GRAD_NORM}\")\n",
    "# 2.0664\n",
    "\n",
    "rmodel = src.RobModel(model, n_classes=N_CLASSES, normalize=NORMALIZE).cuda()"
   ]
  },
  {
   "cell_type": "markdown",
   "id": "d84b5e92",
   "metadata": {},
   "source": [
    "### Start Training"
   ]
  },
  {
   "cell_type": "code",
   "execution_count": 7,
   "id": "d3eaf86b",
   "metadata": {
    "scrolled": true
   },
   "outputs": [],
   "source": [
    "importlib.reload(tr)\n",
    "\n",
    "trainer = tr.DpTrainer(NAME,rmodel)\n",
    "trainer.max_physical_batch_size = MAX_PHYSICAL_BATCH_SIZE\n",
    "trainer.record_rob(train_loader, test_loader)"
   ]
  },
  {
   "cell_type": "code",
   "execution_count": 8,
   "id": "1d606ba9",
   "metadata": {
    "scrolled": true
   },
   "outputs": [
    {
     "name": "stdout",
     "output_type": "stream",
     "text": [
      "Warning! Save file(s) will be overwritten:./saved/MNIST_DPSGD_GNResnet_EPS1\n",
      "Warning! Save file(s) will be overwritten:./saved/MNIST_DPSGD_GNResnet_EPS1/last.pth\n",
      "Warning! Save file(s) will be overwritten:./saved/MNIST_DPSGD_GNResnet_EPS1/best.pth\n",
      "Warning! Save file(s) will be overwritten:./saved/MNIST_DPSGD_GNResnet_EPS1/record.csv\n",
      "Warning! Save file(s) will be overwritten:./saved/MNIST_DPSGD_GNResnet_EPS1/summary.txt\n",
      "[MNIST_DPSGD_GNResnet_EPS1]\n",
      "Training Information.\n",
      "-Epochs: 40\n",
      "-Optimizer: SGD (\n",
      "Parameter Group 0\n",
      "    dampening: 0\n",
      "    lr: 2\n",
      "    momentum: 0.9\n",
      "    nesterov: False\n",
      "    weight_decay: 0\n",
      ")\n",
      "-Scheduler: None\n",
      "-Save Path: ./saved/MNIST_DPSGD_GNResnet_EPS1\n",
      "-Save Type: None\n",
      "-Record Type: Epoch\n",
      "-Device: cuda:0\n",
      "--------------------------------------------------------\n",
      "Epoch   CALoss   Clean(Tr)   Clean(Val)   lr   Sec/it   \n",
      "========================================================\n",
      "1       1.9154   56.9618     56.8900      2    0.1125   \n",
      "--------------------------------------------------------\n",
      "2       1.2955   64.9519     64.5800      2    0.1567   \n",
      "--------------------------------------------------------\n",
      "3       1.0533   72.6420     72.5300      2    0.1635   \n",
      "--------------------------------------------------------\n",
      "4       0.8723   76.6034     77.2800      2    0.1624   \n",
      "--------------------------------------------------------\n",
      "5       0.7258   80.4939     81.1100      2    0.1646   \n",
      "--------------------------------------------------------\n",
      "6       0.6150   82.5946     83.0500      2    0.1670   \n",
      "--------------------------------------------------------\n",
      "7       0.5395   83.3676     84.0200      2    0.1696   \n",
      "--------------------------------------------------------\n",
      "8       0.4813   84.6440     85.4400      2    0.1715   \n",
      "--------------------------------------------------------\n",
      "9       0.4452   87.0308     87.6200      2    0.1687   \n",
      "--------------------------------------------------------\n",
      "10      0.4049   88.8466     89.4800      2    0.1710   \n",
      "--------------------------------------------------------\n",
      "11      0.3789   89.7787     90.7800      2    0.1694   \n",
      "--------------------------------------------------------\n",
      "12      0.3348   90.6507     91.4400      2    0.1696   \n",
      "--------------------------------------------------------\n",
      "13      0.3258   91.6178     92.1600      2    0.1674   \n",
      "--------------------------------------------------------\n",
      "14      0.3257   91.6935     92.1300      2    0.1701   \n",
      "--------------------------------------------------------\n",
      "15      0.3182   91.9013     92.6900      2    0.1695   \n",
      "--------------------------------------------------------\n",
      "16      0.3087   92.2435     92.8200      2    0.1714   \n",
      "--------------------------------------------------------\n",
      "17      0.2932   92.6144     92.9700      2    0.1675   \n",
      "--------------------------------------------------------\n",
      "18      0.2869   93.1406     93.3600      2    0.1682   \n",
      "--------------------------------------------------------\n",
      "19      0.2849   93.1863     93.7300      2    0.1712   \n",
      "--------------------------------------------------------\n",
      "20      0.2689   93.6445     94.3300      2    0.1629   \n",
      "--------------------------------------------------------\n",
      "21      0.2471   93.7212     94.4700      2    0.1610   \n",
      "--------------------------------------------------------\n",
      "22      0.2333   94.0042     94.4700      2    0.1653   \n",
      "--------------------------------------------------------\n",
      "23      0.2332   93.9659     94.6600      2    0.1645   \n",
      "--------------------------------------------------------\n",
      "24      0.2416   94.0233     94.6400      2    0.1700   \n",
      "--------------------------------------------------------\n",
      "25      0.2446   93.9384     94.2700      2    0.1669   \n",
      "--------------------------------------------------------\n",
      "26      0.2417   94.0352     94.5400      2    0.1646   \n",
      "--------------------------------------------------------\n",
      "27      0.2220   94.2154     94.8000      2    0.1682   \n",
      "--------------------------------------------------------\n",
      "28      0.2252   94.2785     94.7500      2    0.1714   \n",
      "--------------------------------------------------------\n",
      "29      0.2288   94.3999     94.7300      2    0.1704   \n",
      "--------------------------------------------------------\n",
      "30      0.2286   94.0570     94.6500      2    0.1666   \n",
      "--------------------------------------------------------\n",
      "31      0.2333   94.2967     94.9000      2    0.1694   \n",
      "--------------------------------------------------------\n",
      "32      0.2241   94.5716     94.9700      2    0.1732   \n",
      "--------------------------------------------------------\n",
      "33      0.2153   94.5491     94.9900      2    0.1686   \n",
      "--------------------------------------------------------\n",
      "34      0.2244   94.5557     95.0600      2    0.1693   \n",
      "--------------------------------------------------------\n",
      "35      0.2216   94.7622     95.2000      2    0.1686   \n",
      "--------------------------------------------------------\n",
      "36      0.2263   93.9114     94.5000      2    0.1650   \n",
      "--------------------------------------------------------\n",
      "37      0.2285   94.6576     95.1300      2    0.1653   \n",
      "--------------------------------------------------------\n",
      "38      0.2203   94.5818     95.3000      2    0.1652   \n",
      "--------------------------------------------------------\n",
      "39      0.2153   94.9123     95.1900      2    0.1663   \n",
      "--------------------------------------------------------\n",
      "40      0.2212   94.8391     95.2200      2    0.1643   \n",
      "--------------------------------------------------------\n",
      "========================================================\n",
      "Total Epoch: 40\n",
      "Start Time: 2023-07-23 21:42:08.076354\n",
      "Time Elapsed: 0:27:12.510043\n",
      "Min(epoch)/Max(epoch): \n",
      "-CALoss: 0.2153(33)/1.9154(1)\n",
      "-Clean(Tr): 56.9618(1)/94.9123(39)\n",
      "-Clean(Val): 56.8900(1)/95.3000(38)\n",
      "-lr: 2.0000(1)/2.0000(1)\n",
      "-Sec/it: 0.1125(1)/0.1732(32)\n",
      "--------------------------------------------------------\n"
     ]
    }
   ],
   "source": [
    "trainer.fit(train_loader=train_loader, max_epoch=EPOCHS, start_epoch=0,\n",
    "            optimizer=optimizer,\n",
    "            scheduler=None, scheduler_type=\"Epoch\",\n",
    "            minimizer=None,\n",
    "            save_path=SAVE_PATH, save_best={\"Clean(Val)\":\"HB\"},\n",
    "            save_type=None, save_overwrite=True, record_type=\"Epoch\")"
   ]
  },
  {
   "cell_type": "markdown",
   "id": "ebf1db40",
   "metadata": {},
   "source": [
    "### Evaluation"
   ]
  },
  {
   "cell_type": "code",
   "execution_count": 9,
   "id": "0145f440",
   "metadata": {
    "scrolled": false
   },
   "outputs": [
    {
     "name": "stdout",
     "output_type": "stream",
     "text": [
      "Model loaded.\n",
      "Record Info:\n",
      "OrderedDict([('Epoch', 40), ('CALoss', 0.22119358095748365), ('Clean(Tr)', 94.83911861353438), ('Clean(Val)', 95.22), ('lr', 2)])\n"
     ]
    },
    {
     "data": {
      "text/plain": [
       "95.22"
      ]
     },
     "execution_count": 9,
     "metadata": {},
     "output_type": "execute_result"
    }
   ],
   "source": [
    "rmodel.load_dict(PATH+NAME+'/last.pth')\n",
    "rmodel.eval_accuracy(test_loader)"
   ]
  },
  {
   "cell_type": "code",
   "execution_count": 10,
   "id": "f5737d86",
   "metadata": {
    "scrolled": false
   },
   "outputs": [
    {
     "name": "stdout",
     "output_type": "stream",
     "text": [
      "Model loaded.\n",
      "Record Info:\n",
      "OrderedDict([('Epoch', 38), ('CALoss', 0.2203147996684559), ('Clean(Tr)', 94.58182364629076), ('Clean(Val)', 95.3), ('lr', 2)])\n"
     ]
    },
    {
     "data": {
      "text/plain": [
       "95.3"
      ]
     },
     "execution_count": 10,
     "metadata": {},
     "output_type": "execute_result"
    }
   ],
   "source": [
    "rmodel.load_dict(PATH+NAME+'/best.pth')\n",
    "rmodel.eval_accuracy(test_loader)"
   ]
  },
  {
   "cell_type": "code",
   "execution_count": null,
   "id": "93257278",
   "metadata": {},
   "outputs": [],
   "source": []
  }
 ],
 "metadata": {
  "kernelspec": {
   "display_name": "dpsat",
   "language": "python",
   "name": "dpsat"
  },
  "language_info": {
   "codemirror_mode": {
    "name": "ipython",
    "version": 3
   },
   "file_extension": ".py",
   "mimetype": "text/x-python",
   "name": "python",
   "nbconvert_exporter": "python",
   "pygments_lexer": "ipython3",
   "version": "3.9.7"
  }
 },
 "nbformat": 4,
 "nbformat_minor": 5
}

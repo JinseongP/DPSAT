{
 "cells": [
  {
   "cell_type": "code",
   "execution_count": 1,
   "id": "2e1379b7",
   "metadata": {},
   "outputs": [],
   "source": [
    "import os\n",
    "import numpy as np\n",
    "import torch\n",
    "import warnings\n",
    "\n",
    "warnings.filterwarnings(\"ignore\")\n",
    "if os.getcwd()[-8:]=='examples':\n",
    "    os.chdir('..')\n",
    "\n",
    "os.environ[\"CUDA_VISIBLE_DEVICES\"] = \"0\" # Possible GPUS"
   ]
  },
  {
   "cell_type": "code",
   "execution_count": 2,
   "id": "4504274b",
   "metadata": {},
   "outputs": [],
   "source": [
    "import torch.nn as nn\n",
    "import torch.optim as optim\n",
    "import torchvision.transforms as transforms\n",
    "import importlib\n",
    "\n",
    "from opacus import PrivacyEngine\n",
    "from opacus.validators import ModuleValidator\n",
    "\n",
    "import src\n",
    "import src.trainer as tr"
   ]
  },
  {
   "cell_type": "markdown",
   "id": "45205af5",
   "metadata": {},
   "source": [
    "### Settings"
   ]
  },
  {
   "cell_type": "code",
   "execution_count": 3,
   "id": "7637d6b6",
   "metadata": {},
   "outputs": [],
   "source": [
    "#### FOR DP\n",
    "MAX_GRAD_NORM = 0.1\n",
    "EPSILON = 2.0\n",
    "DELTA = 1e-5\n",
    "\n",
    "#### FOR TRAINING\n",
    "LR = 2\n",
    "EPOCHS = 40\n",
    "BATCH_SIZE = 2048\n",
    "MAX_PHYSICAL_BATCH_SIZE = 1024\n",
    "RHO = 0.0\n",
    "\n",
    "#### FOR SAVE\n",
    "PATH = \"./saved/\"\n",
    "NAME = \"FMNIST_DPNAS_DPSGD_EPS2\"\n",
    "SAVE_PATH = PATH + NAME\n",
    "\n",
    "### FOR MODELING\n",
    "MODEL_NAME = \"DPNASNet_FMNIST\"\n",
    "DATA = \"FashionMNIST\"\n",
    "NORMALIZE = {'mean':[0.1307],\n",
    "             'std':[0.3081]}\n",
    "N_CLASSES = 10"
   ]
  },
  {
   "cell_type": "markdown",
   "id": "69d3fddb",
   "metadata": {},
   "source": [
    "### Data loader"
   ]
  },
  {
   "cell_type": "code",
   "execution_count": 4,
   "id": "8d2186ab",
   "metadata": {},
   "outputs": [
    {
     "name": "stdout",
     "output_type": "stream",
     "text": [
      "Data Loaded!\n",
      "Train Data Length : 60000\n",
      "Test Data Length : 10000\n"
     ]
    }
   ],
   "source": [
    "data = src.Datasets(data_name=DATA, train_transform = transforms.ToTensor())\n",
    "train_loader, test_loader = data.get_loader(batch_size=BATCH_SIZE, drop_last_train=False, num_workers=16)"
   ]
  },
  {
   "cell_type": "markdown",
   "id": "f44251a2",
   "metadata": {
    "id": "EcestuJGdLLM"
   },
   "source": [
    "### Model & Optimizer"
   ]
  },
  {
   "cell_type": "code",
   "execution_count": 5,
   "id": "5c05d5f9",
   "metadata": {
    "scrolled": true
   },
   "outputs": [
    {
     "name": "stdout",
     "output_type": "stream",
     "text": [
      "[(3, 0, 1), (0, 0, 2), (5, 1, 2), (4, 0, 3), (5, 1, 3), (3, 2, 3), (0, 0, 4), (0, 1, 4), (6, 2, 4), (3, 3, 4), (5, 0, 5), (6, 1, 5), (1, 2, 5), (4, 3, 5), (1, 4, 5)]\n",
      "DPNASNet_FMNIST is loaded.\n",
      "model params: 0.2146M\n"
     ]
    }
   ],
   "source": [
    "#### Load model\n",
    "model = src.utils.load_model(model_name=MODEL_NAME, n_classes=N_CLASSES).cuda() # Load model\n",
    "model = ModuleValidator.fix(model)\n",
    "ModuleValidator.validate(model, strict=False)\n",
    "\n",
    "pytorch_total_params = sum(p.numel() for p in model.parameters())\n",
    "\n",
    "print(\"model params: {:.4f}M\".format(pytorch_total_params/1000000))\n",
    "\n",
    "#### Define optimizer\n",
    "optimizer = torch.optim.SGD(model.parameters(),lr=LR, momentum=0.9)"
   ]
  },
  {
   "cell_type": "markdown",
   "id": "c49acb21",
   "metadata": {},
   "source": [
    "### Load PrivacyEngine from Opacus"
   ]
  },
  {
   "cell_type": "code",
   "execution_count": 6,
   "id": "1052ab28",
   "metadata": {},
   "outputs": [
    {
     "name": "stdout",
     "output_type": "stream",
     "text": [
      "Using sigma=2.63671875 and C=0.1\n"
     ]
    }
   ],
   "source": [
    "privacy_engine = PrivacyEngine()\n",
    "\n",
    "model, optimizer, train_loader = privacy_engine.make_private_with_epsilon(\n",
    "    module=model,\n",
    "    optimizer=optimizer,\n",
    "    data_loader=train_loader,\n",
    "    epochs=EPOCHS,\n",
    "    target_epsilon=EPSILON,\n",
    "    target_delta=DELTA,\n",
    "    max_grad_norm=MAX_GRAD_NORM,\n",
    ")\n",
    "\n",
    "optimizer.target_epsilon = EPSILON\n",
    "optimizer.target_delta = DELTA\n",
    "\n",
    "print(f\"Using sigma={optimizer.noise_multiplier} and C={MAX_GRAD_NORM}\")\n",
    "# 2.0664\n",
    "\n",
    "rmodel = src.RobModel(model, n_classes=N_CLASSES, normalize=NORMALIZE).cuda()"
   ]
  },
  {
   "cell_type": "markdown",
   "id": "d84b5e92",
   "metadata": {},
   "source": [
    "### Start Training"
   ]
  },
  {
   "cell_type": "code",
   "execution_count": 7,
   "id": "d3eaf86b",
   "metadata": {
    "scrolled": true
   },
   "outputs": [],
   "source": [
    "importlib.reload(tr)\n",
    "\n",
    "trainer = tr.DpTrainer(NAME,rmodel)\n",
    "trainer.max_physical_batch_size = MAX_PHYSICAL_BATCH_SIZE\n",
    "trainer.record_rob(train_loader, test_loader)"
   ]
  },
  {
   "cell_type": "code",
   "execution_count": 8,
   "id": "1d606ba9",
   "metadata": {
    "scrolled": true
   },
   "outputs": [
    {
     "name": "stdout",
     "output_type": "stream",
     "text": [
      "[FMNIST_DPNAS_DPSGD_EPS2]\n",
      "Training Information.\n",
      "-Epochs: 40\n",
      "-Optimizer: SGD (\n",
      "Parameter Group 0\n",
      "    dampening: 0\n",
      "    lr: 2\n",
      "    momentum: 0.9\n",
      "    nesterov: False\n",
      "    weight_decay: 0\n",
      ")\n",
      "-Scheduler: None\n",
      "-Save Path: ./saved/FMNIST_DPNAS_DPSGD_EPS2\n",
      "-Save Type: None\n",
      "-Record Type: Epoch\n",
      "-Device: cuda:0\n",
      "----------------------------------------------------------\n",
      "Epoch   CALoss^p   Clean(Tr)   Clean(Val)   lr   Sec/it   \n",
      "==========================================================\n",
      "1       1.3652     70.7034     69.9000      2    0.1849   \n",
      "----------------------------------------------------------\n",
      "2       0.8021     76.8594     76.4000      2    0.3619   \n",
      "----------------------------------------------------------\n",
      "3       0.8676     79.6895     78.9300      2    0.3672   \n",
      "----------------------------------------------------------\n",
      "4       0.8226     81.6964     81.1000      2    0.3891   \n",
      "----------------------------------------------------------\n",
      "5       0.7728     82.9424     82.0500      2    0.4038   \n",
      "----------------------------------------------------------\n",
      "6       0.7441     83.5600     82.9500      2    0.4066   \n",
      "----------------------------------------------------------\n",
      "7       0.7203     84.3808     83.8200      2    0.3947   \n",
      "----------------------------------------------------------\n",
      "8       0.6932     84.9435     84.1500      2    0.4001   \n",
      "----------------------------------------------------------\n",
      "9       0.6829     85.1006     84.2700      2    0.3955   \n",
      "----------------------------------------------------------\n",
      "10      0.6685     85.7074     84.5300      2    0.3800   \n",
      "----------------------------------------------------------\n",
      "11      0.6747     85.7841     84.6700      2    0.3790   \n",
      "----------------------------------------------------------\n",
      "12      0.6623     86.2257     84.8600      2    0.3882   \n",
      "----------------------------------------------------------\n",
      "13      0.6485     85.9938     84.9200      2    0.3740   \n",
      "----------------------------------------------------------\n",
      "14      0.6642     85.9142     85.0300      2    0.3751   \n",
      "----------------------------------------------------------\n",
      "15      0.6477     86.1757     85.2000      2    0.3901   \n",
      "----------------------------------------------------------\n",
      "16      0.6610     86.2034     85.1100      2    0.3745   \n",
      "----------------------------------------------------------\n",
      "17      0.6594     86.7457     85.1800      2    0.3888   \n",
      "----------------------------------------------------------\n",
      "18      0.6394     86.5828     85.5500      2    0.3844   \n",
      "----------------------------------------------------------\n",
      "19      0.6374     86.9476     85.8100      2    0.3786   \n",
      "----------------------------------------------------------\n",
      "20      0.6294     87.1242     85.7800      2    0.3914   \n",
      "----------------------------------------------------------\n",
      "21      0.6340     86.9050     85.8400      2    0.3974   \n",
      "----------------------------------------------------------\n",
      "22      0.6417     87.3508     85.7800      2    0.4123   \n",
      "----------------------------------------------------------\n",
      "23      0.6374     87.3693     86.1900      2    0.4239   \n",
      "----------------------------------------------------------\n",
      "24      0.6325     87.5305     86.2500      2    0.3949   \n",
      "----------------------------------------------------------\n",
      "25      0.6200     87.3263     86.2100      2    0.4174   \n",
      "----------------------------------------------------------\n",
      "26      0.6035     87.0552     86.3500      2    0.4101   \n",
      "----------------------------------------------------------\n",
      "27      0.6293     87.4190     86.2900      2    0.3832   \n",
      "----------------------------------------------------------\n",
      "28      0.6388     87.4215     86.3200      2    0.3929   \n",
      "----------------------------------------------------------\n",
      "29      0.6206     87.1172     86.0400      2    0.3902   \n",
      "----------------------------------------------------------\n",
      "30      0.6188     87.0905     86.2900      2    0.4036   \n",
      "----------------------------------------------------------\n",
      "31      0.6310     87.3132     86.8900      2    0.3917   \n",
      "----------------------------------------------------------\n",
      "32      0.6397     87.6222     86.6800      2    0.4033   \n",
      "----------------------------------------------------------\n",
      "33      0.6204     87.7086     86.6500      2    0.4185   \n",
      "----------------------------------------------------------\n",
      "34      0.6212     88.0319     86.6500      2    0.4052   \n",
      "----------------------------------------------------------\n",
      "35      0.6211     87.6333     86.8900      2    0.3835   \n",
      "----------------------------------------------------------\n",
      "36      0.6137     87.7923     87.0100      2    0.3851   \n",
      "----------------------------------------------------------\n",
      "37      0.6006     87.9585     87.0300      2    0.3926   \n",
      "----------------------------------------------------------\n",
      "38      0.6074     88.1276     86.9400      2    0.4009   \n",
      "----------------------------------------------------------\n",
      "39      0.6106     88.0287     86.9300      2    0.3948   \n",
      "----------------------------------------------------------\n",
      "40      0.6157     88.2300     87.1400      2    0.4002   \n",
      "----------------------------------------------------------\n",
      "==========================================================\n",
      "Total Epoch: 40\n",
      "Start Time: 2023-07-23 20:54:11.390567\n",
      "Time Elapsed: 0:16:54.713637\n",
      "Min(epoch)/Max(epoch): \n",
      "-CALoss^p: 0.6006(37)/1.3652(1)\n",
      "-Clean(Tr): 70.7034(1)/88.2300(40)\n",
      "-Clean(Val): 69.9000(1)/87.1400(40)\n",
      "-lr: 2.0000(1)/2.0000(1)\n",
      "-Sec/it: 0.1849(1)/0.4239(23)\n",
      "----------------------------------------------------------\n"
     ]
    }
   ],
   "source": [
    "trainer.fit(train_loader=train_loader, max_epoch=EPOCHS, start_epoch=0,\n",
    "            optimizer=optimizer,\n",
    "            scheduler=None, scheduler_type=\"Epoch\",\n",
    "            minimizer=\"DPSAT(rho={})\".format(RHO),\n",
    "            save_path=SAVE_PATH, save_best={\"Clean(Val)\":\"HB\"},\n",
    "            save_type=None, save_overwrite=True, record_type=\"Epoch\")"
   ]
  },
  {
   "cell_type": "markdown",
   "id": "ebf1db40",
   "metadata": {},
   "source": [
    "### Evaluation"
   ]
  },
  {
   "cell_type": "code",
   "execution_count": 9,
   "id": "0145f440",
   "metadata": {
    "scrolled": true
   },
   "outputs": [
    {
     "name": "stdout",
     "output_type": "stream",
     "text": [
      "Model loaded.\n",
      "Record Info:\n",
      "OrderedDict([('Epoch', 40), ('CALoss^p', 0.6156516009941697), ('Clean(Tr)', 88.22999399319228), ('Clean(Val)', 87.14), ('lr', 2)])\n"
     ]
    },
    {
     "data": {
      "text/plain": [
       "87.14"
      ]
     },
     "execution_count": 9,
     "metadata": {},
     "output_type": "execute_result"
    }
   ],
   "source": [
    "rmodel.load_dict(PATH+NAME+'/last.pth')\n",
    "rmodel.eval_accuracy(test_loader)"
   ]
  },
  {
   "cell_type": "code",
   "execution_count": 10,
   "id": "f5737d86",
   "metadata": {
    "scrolled": false
   },
   "outputs": [
    {
     "name": "stdout",
     "output_type": "stream",
     "text": [
      "Model loaded.\n",
      "Record Info:\n",
      "OrderedDict([('Epoch', 40), ('CALoss^p', 0.6156516009941697), ('Clean(Tr)', 88.22999399319228), ('Clean(Val)', 87.14), ('lr', 2)])\n"
     ]
    },
    {
     "data": {
      "text/plain": [
       "87.14"
      ]
     },
     "execution_count": 10,
     "metadata": {},
     "output_type": "execute_result"
    }
   ],
   "source": [
    "rmodel.load_dict(PATH+NAME+'/best.pth')\n",
    "rmodel.eval_accuracy(test_loader)"
   ]
  },
  {
   "cell_type": "code",
   "execution_count": null,
   "id": "93257278",
   "metadata": {},
   "outputs": [],
   "source": []
  }
 ],
 "metadata": {
  "kernelspec": {
   "display_name": "dpsat",
   "language": "python",
   "name": "dpsat"
  },
  "language_info": {
   "codemirror_mode": {
    "name": "ipython",
    "version": 3
   },
   "file_extension": ".py",
   "mimetype": "text/x-python",
   "name": "python",
   "nbconvert_exporter": "python",
   "pygments_lexer": "ipython3",
   "version": "3.9.7"
  }
 },
 "nbformat": 4,
 "nbformat_minor": 5
}

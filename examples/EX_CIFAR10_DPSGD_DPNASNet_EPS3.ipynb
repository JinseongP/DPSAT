{
 "cells": [
  {
   "cell_type": "code",
   "execution_count": 1,
   "id": "2e1379b7",
   "metadata": {},
   "outputs": [],
   "source": [
    "import os\n",
    "import numpy as np\n",
    "import torch\n",
    "import warnings\n",
    "\n",
    "warnings.filterwarnings(\"ignore\")\n",
    "if os.getcwd()[-8:]=='examples':\n",
    "    os.chdir('..')\n",
    "\n",
    "os.environ[\"CUDA_VISIBLE_DEVICES\"] = \"3\" # Possible GPUS"
   ]
  },
  {
   "cell_type": "code",
   "execution_count": 2,
   "id": "4504274b",
   "metadata": {},
   "outputs": [],
   "source": [
    "import torch.nn as nn\n",
    "import torch.optim as optim\n",
    "import torchvision.transforms as transforms\n",
    "import importlib\n",
    "\n",
    "from opacus import PrivacyEngine\n",
    "from opacus.validators import ModuleValidator\n",
    "\n",
    "import src\n",
    "import src.trainer as tr"
   ]
  },
  {
   "cell_type": "markdown",
   "id": "45205af5",
   "metadata": {},
   "source": [
    "### Settings"
   ]
  },
  {
   "cell_type": "code",
   "execution_count": 3,
   "id": "7637d6b6",
   "metadata": {},
   "outputs": [],
   "source": [
    "#### FOR DP\n",
    "MAX_GRAD_NORM = 0.1\n",
    "EPSILON = 3.0\n",
    "DELTA = 1e-5\n",
    "\n",
    "#### FOR TRAINING\n",
    "LR = 2\n",
    "EPOCHS = 30\n",
    "BATCH_SIZE = 2048\n",
    "MAX_PHYSICAL_BATCH_SIZE = 1024\n",
    "RHO = 0.0\n",
    "\n",
    "#### FOR SAVE\n",
    "PATH = \"./saved/\"\n",
    "NAME = \"CIFAR10_DPNAS_Rho-0\"\n",
    "SAVE_PATH = PATH + NAME\n",
    "\n",
    "### FOR MODELING\n",
    "MODEL_NAME = \"DPNASNet_CIFAR\"\n",
    "DATA = \"CIFAR10\"\n",
    "NORMALIZE = {'mean':[0.4914, 0.4822, 0.4465],\n",
    "             'std':[0.2023, 0.1994, 0.2010]}\n",
    "N_CLASSES = 10"
   ]
  },
  {
   "cell_type": "markdown",
   "id": "69d3fddb",
   "metadata": {},
   "source": [
    "### Data loader"
   ]
  },
  {
   "cell_type": "code",
   "execution_count": 4,
   "id": "8d2186ab",
   "metadata": {},
   "outputs": [
    {
     "name": "stdout",
     "output_type": "stream",
     "text": [
      "Files already downloaded and verified\n",
      "Files already downloaded and verified\n",
      "Data Loaded!\n",
      "Train Data Length : 50000\n",
      "Test Data Length : 10000\n"
     ]
    }
   ],
   "source": [
    "data = src.Datasets(data_name=DATA, train_transform = transforms.ToTensor())\n",
    "train_loader, test_loader = data.get_loader(batch_size=BATCH_SIZE, drop_last_train=False, num_workers=16)"
   ]
  },
  {
   "cell_type": "markdown",
   "id": "f44251a2",
   "metadata": {
    "id": "EcestuJGdLLM"
   },
   "source": [
    "### Model & Optimizer"
   ]
  },
  {
   "cell_type": "code",
   "execution_count": 5,
   "id": "5c05d5f9",
   "metadata": {
    "scrolled": true
   },
   "outputs": [
    {
     "name": "stdout",
     "output_type": "stream",
     "text": [
      "[(5, 0, 1), (1, 0, 2), (5, 1, 2), (6, 0, 3), (1, 1, 3), (0, 2, 3), (5, 0, 4), (0, 1, 4), (0, 2, 4), (3, 3, 4), (5, 0, 5), (5, 1, 5), (6, 2, 5), (1, 3, 5), (6, 4, 5)]\n",
      "DPNASNet_CIFAR is loaded.\n",
      "model params: 0.5294M\n"
     ]
    }
   ],
   "source": [
    "#### Load model\n",
    "model = src.utils.load_model(model_name=MODEL_NAME, n_classes=N_CLASSES).cuda() # Load model\n",
    "model = ModuleValidator.fix(model)\n",
    "ModuleValidator.validate(model, strict=False)\n",
    "\n",
    "pytorch_total_params = sum(p.numel() for p in model.parameters())\n",
    "\n",
    "print(\"model params: {:.4f}M\".format(pytorch_total_params/1000000))\n",
    "\n",
    "#### Define optimizer\n",
    "optimizer = torch.optim.SGD(model.parameters(),lr=LR, momentum=0.9)"
   ]
  },
  {
   "cell_type": "markdown",
   "id": "c49acb21",
   "metadata": {},
   "source": [
    "### Load PrivacyEngine from Opacus"
   ]
  },
  {
   "cell_type": "code",
   "execution_count": 6,
   "id": "1052ab28",
   "metadata": {},
   "outputs": [
    {
     "name": "stdout",
     "output_type": "stream",
     "text": [
      "Using sigma=1.8408203125 and C=0.1\n"
     ]
    }
   ],
   "source": [
    "privacy_engine = PrivacyEngine()\n",
    "\n",
    "model, optimizer, train_loader = privacy_engine.make_private_with_epsilon(\n",
    "    module=model,\n",
    "    optimizer=optimizer,\n",
    "    data_loader=train_loader,\n",
    "    epochs=EPOCHS,\n",
    "    target_epsilon=EPSILON,\n",
    "    target_delta=DELTA,\n",
    "    max_grad_norm=MAX_GRAD_NORM,\n",
    ")\n",
    "\n",
    "optimizer.target_epsilon = EPSILON\n",
    "optimizer.target_delta = DELTA\n",
    "\n",
    "print(f\"Using sigma={optimizer.noise_multiplier} and C={MAX_GRAD_NORM}\")\n",
    "# 2.0664\n",
    "\n",
    "rmodel = src.RobModel(model, n_classes=N_CLASSES, normalize=NORMALIZE).cuda()"
   ]
  },
  {
   "cell_type": "markdown",
   "id": "d84b5e92",
   "metadata": {},
   "source": [
    "### Start Training"
   ]
  },
  {
   "cell_type": "code",
   "execution_count": 7,
   "id": "d3eaf86b",
   "metadata": {
    "scrolled": true
   },
   "outputs": [],
   "source": [
    "importlib.reload(tr)\n",
    "\n",
    "trainer = tr.DpTrainer(NAME,rmodel)\n",
    "trainer.max_physical_batch_size = MAX_PHYSICAL_BATCH_SIZE\n",
    "trainer.record_rob(train_loader, test_loader)"
   ]
  },
  {
   "cell_type": "code",
   "execution_count": 8,
   "id": "1d606ba9",
   "metadata": {
    "scrolled": true
   },
   "outputs": [
    {
     "name": "stdout",
     "output_type": "stream",
     "text": [
      "Warning! Save file(s) will be overwritten:./saved/CIFAR10_DPNAS_Rho-0\n",
      "[CIFAR10_DPNAS_Rho-0]\n",
      "Training Information.\n",
      "-Epochs: 30\n",
      "-Optimizer: SGD (\n",
      "Parameter Group 0\n",
      "    dampening: 0\n",
      "    lr: 2\n",
      "    momentum: 0.9\n",
      "    nesterov: False\n",
      "    weight_decay: 0\n",
      ")\n",
      "-Scheduler: None\n",
      "-Save Path: ./saved/CIFAR10_DPNAS_Rho-0\n",
      "-Save Type: None\n",
      "-Record Type: Epoch\n",
      "-Device: cuda:0\n",
      "----------------------------------------------------------\n",
      "Epoch   CALoss^p   Clean(Tr)   Clean(Val)   lr   Sec/it   \n",
      "==========================================================\n",
      "1       2.0377     37.4473     37.4200      2    0.4188   \n",
      "----------------------------------------------------------\n",
      "2       1.5916     48.4809     48.8900      2    0.6596   \n",
      "----------------------------------------------------------\n",
      "3       1.5116     51.9109     52.3900      2    0.6614   \n",
      "----------------------------------------------------------\n",
      "4       1.5359     55.0694     54.5700      2    0.6345   \n",
      "----------------------------------------------------------\n",
      "5       1.5395     57.7984     56.9800      2    0.6692   \n",
      "----------------------------------------------------------\n",
      "6       1.5563     59.0219     58.1200      2    0.6570   \n",
      "----------------------------------------------------------\n",
      "7       1.5312     61.0023     60.1600      2    0.6323   \n",
      "----------------------------------------------------------\n",
      "8       1.5519     61.3637     60.9400      2    0.6493   \n",
      "----------------------------------------------------------\n",
      "9       1.5613     61.6249     61.2500      2    0.6761   \n",
      "----------------------------------------------------------\n",
      "10      1.5408     62.8150     61.9200      2    0.6746   \n",
      "----------------------------------------------------------\n",
      "11      1.5718     64.4124     63.5900      2    0.6736   \n",
      "----------------------------------------------------------\n",
      "12      1.5541     64.2982     63.2500      2    0.6600   \n",
      "----------------------------------------------------------\n",
      "13      1.5788     65.2608     64.3900      2    0.6560   \n",
      "----------------------------------------------------------\n",
      "14      1.5557     65.8445     64.8900      2    0.7055   \n",
      "----------------------------------------------------------\n",
      "15      1.5665     66.1769     65.2700      2    0.6465   \n",
      "----------------------------------------------------------\n",
      "16      1.6003     66.5110     65.8600      2    0.6610   \n",
      "----------------------------------------------------------\n",
      "17      1.5891     67.2500     65.8300      2    0.6554   \n",
      "----------------------------------------------------------\n",
      "18      1.6451     66.9410     66.0700      2    0.6691   \n",
      "----------------------------------------------------------\n",
      "19      1.6151     67.4628     66.2300      2    0.7142   \n",
      "----------------------------------------------------------\n",
      "20      1.6197     68.1178     66.9300      2    0.6761   \n",
      "----------------------------------------------------------\n",
      "21      1.5984     67.8060     66.4600      2    0.6843   \n",
      "----------------------------------------------------------\n",
      "22      1.5935     68.0650     66.6700      2    0.6818   \n",
      "----------------------------------------------------------\n",
      "23      1.6442     68.5361     66.8600      2    0.6988   \n",
      "----------------------------------------------------------\n",
      "24      1.6150     68.6926     67.5900      2    0.6735   \n",
      "----------------------------------------------------------\n",
      "25      1.6275     69.3295     67.5200      2    0.7009   \n",
      "----------------------------------------------------------\n",
      "26      1.6311     69.4661     67.9500      2    0.6841   \n",
      "----------------------------------------------------------\n",
      "27      1.6540     69.2931     68.4000      2    0.6913   \n",
      "----------------------------------------------------------\n",
      "28      1.6610     69.7003     68.2800      2    0.6331   \n",
      "----------------------------------------------------------\n",
      "29      1.6799     69.3607     67.7800      2    0.6420   \n",
      "----------------------------------------------------------\n",
      "30      1.6432     70.7600     68.4100      2    0.6301   \n",
      "----------------------------------------------------------\n",
      "==========================================================\n",
      "Total Epoch: 30\n",
      "Start Time: 2023-07-23 16:48:13.346006\n",
      "Time Elapsed: 0:17:48.600506\n",
      "Min(epoch)/Max(epoch): \n",
      "-CALoss^p: 1.5116(3)/2.0377(1)\n",
      "-Clean(Tr): 37.4473(1)/70.7600(30)\n",
      "-Clean(Val): 37.4200(1)/68.4100(30)\n",
      "-lr: 2.0000(1)/2.0000(1)\n",
      "-Sec/it: 0.4188(1)/0.7142(19)\n",
      "----------------------------------------------------------\n"
     ]
    }
   ],
   "source": [
    "trainer.fit(train_loader=train_loader, max_epoch=EPOCHS, start_epoch=0,\n",
    "            optimizer=optimizer,\n",
    "            scheduler=None, scheduler_type=\"Epoch\",\n",
    "            minimizer=\"DPSAT(rho={})\".format(RHO),\n",
    "            save_path=SAVE_PATH, save_best={\"Clean(Val)\":\"HB\"},\n",
    "            save_type=None, save_overwrite=True, record_type=\"Epoch\")"
   ]
  },
  {
   "cell_type": "markdown",
   "id": "ebf1db40",
   "metadata": {},
   "source": [
    "### Evaluation"
   ]
  },
  {
   "cell_type": "code",
   "execution_count": 9,
   "id": "0145f440",
   "metadata": {
    "scrolled": false
   },
   "outputs": [
    {
     "name": "stdout",
     "output_type": "stream",
     "text": [
      "Model loaded.\n",
      "Record Info:\n",
      "OrderedDict([('Epoch', 30), ('CALoss^p', 1.6432497224637441), ('Clean(Tr)', 70.7599536759714), ('Clean(Val)', 68.41), ('lr', 2)])\n"
     ]
    },
    {
     "data": {
      "text/plain": [
       "68.41"
      ]
     },
     "execution_count": 9,
     "metadata": {},
     "output_type": "execute_result"
    }
   ],
   "source": [
    "rmodel.load_dict(PATH+NAME+'/last.pth')\n",
    "rmodel.eval_accuracy(test_loader)"
   ]
  },
  {
   "cell_type": "code",
   "execution_count": 10,
   "id": "f5737d86",
   "metadata": {
    "scrolled": false
   },
   "outputs": [
    {
     "name": "stdout",
     "output_type": "stream",
     "text": [
      "Model loaded.\n",
      "Record Info:\n",
      "OrderedDict([('Epoch', 30), ('CALoss^p', 1.6432497224637441), ('Clean(Tr)', 70.7599536759714), ('Clean(Val)', 68.41), ('lr', 2)])\n"
     ]
    },
    {
     "data": {
      "text/plain": [
       "68.41"
      ]
     },
     "execution_count": 10,
     "metadata": {},
     "output_type": "execute_result"
    }
   ],
   "source": [
    "rmodel.load_dict(PATH+NAME+'/best.pth')\n",
    "rmodel.eval_accuracy(test_loader)"
   ]
  },
  {
   "cell_type": "code",
   "execution_count": null,
   "id": "f8508f86",
   "metadata": {},
   "outputs": [],
   "source": []
  }
 ],
 "metadata": {
  "kernelspec": {
   "display_name": "dpsat",
   "language": "python",
   "name": "dpsat"
  },
  "language_info": {
   "codemirror_mode": {
    "name": "ipython",
    "version": 3
   },
   "file_extension": ".py",
   "mimetype": "text/x-python",
   "name": "python",
   "nbconvert_exporter": "python",
   "pygments_lexer": "ipython3",
   "version": "3.9.7"
  }
 },
 "nbformat": 4,
 "nbformat_minor": 5
}

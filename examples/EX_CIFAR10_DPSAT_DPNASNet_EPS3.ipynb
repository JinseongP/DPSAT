{
 "cells": [
  {
   "cell_type": "code",
   "execution_count": 1,
   "id": "2e1379b7",
   "metadata": {},
   "outputs": [],
   "source": [
    "import os\n",
    "import numpy as np\n",
    "import torch\n",
    "import warnings\n",
    "\n",
    "warnings.filterwarnings(\"ignore\")\n",
    "if os.getcwd()[-8:]=='examples':\n",
    "    os.chdir('..')\n",
    "\n",
    "os.environ[\"CUDA_VISIBLE_DEVICES\"] = \"1\" # Possible GPUS"
   ]
  },
  {
   "cell_type": "code",
   "execution_count": 2,
   "id": "4504274b",
   "metadata": {},
   "outputs": [],
   "source": [
    "import torch.nn as nn\n",
    "import torch.optim as optim\n",
    "import torchvision.transforms as transforms\n",
    "import importlib\n",
    "\n",
    "from opacus import PrivacyEngine\n",
    "from opacus.validators import ModuleValidator\n",
    "\n",
    "import src\n",
    "import src.trainer as tr"
   ]
  },
  {
   "cell_type": "markdown",
   "id": "45205af5",
   "metadata": {},
   "source": [
    "### Settings"
   ]
  },
  {
   "cell_type": "code",
   "execution_count": 3,
   "id": "7637d6b6",
   "metadata": {},
   "outputs": [],
   "source": [
    "#### FOR DP\n",
    "MAX_GRAD_NORM = 0.1\n",
    "EPSILON = 3.0\n",
    "DELTA = 1e-5\n",
    "\n",
    "#### FOR TRAINING\n",
    "LR = 2\n",
    "EPOCHS = 30\n",
    "BATCH_SIZE = 2048\n",
    "MAX_PHYSICAL_BATCH_SIZE = 1024\n",
    "RHO = 0.03\n",
    "\n",
    "#### FOR SAVE\n",
    "PATH = \"./saved/\"\n",
    "NAME = \"CIFAR10_DPNAS_EPS3\"\n",
    "SAVE_PATH = PATH + NAME\n",
    "\n",
    "### FOR MODELING\n",
    "MODEL_NAME = \"DPNASNet_CIFAR\"\n",
    "DATA = \"CIFAR10\"\n",
    "NORMALIZE = {'mean':[0.4914, 0.4822, 0.4465],\n",
    "             'std':[0.2023, 0.1994, 0.2010]}\n",
    "N_CLASSES = 10"
   ]
  },
  {
   "cell_type": "markdown",
   "id": "69d3fddb",
   "metadata": {},
   "source": [
    "### Data loader"
   ]
  },
  {
   "cell_type": "code",
   "execution_count": 4,
   "id": "8d2186ab",
   "metadata": {},
   "outputs": [
    {
     "name": "stdout",
     "output_type": "stream",
     "text": [
      "Files already downloaded and verified\n",
      "Files already downloaded and verified\n",
      "Data Loaded!\n",
      "Train Data Length : 50000\n",
      "Test Data Length : 10000\n"
     ]
    }
   ],
   "source": [
    "data = src.Datasets(data_name=DATA, train_transform = transforms.ToTensor())\n",
    "train_loader, test_loader = data.get_loader(batch_size=BATCH_SIZE, drop_last_train=False, num_workers=16)"
   ]
  },
  {
   "cell_type": "markdown",
   "id": "f44251a2",
   "metadata": {
    "id": "EcestuJGdLLM"
   },
   "source": [
    "### Model & Optimizer"
   ]
  },
  {
   "cell_type": "code",
   "execution_count": 5,
   "id": "5c05d5f9",
   "metadata": {
    "scrolled": true
   },
   "outputs": [
    {
     "name": "stdout",
     "output_type": "stream",
     "text": [
      "[(5, 0, 1), (1, 0, 2), (5, 1, 2), (6, 0, 3), (1, 1, 3), (0, 2, 3), (5, 0, 4), (0, 1, 4), (0, 2, 4), (3, 3, 4), (5, 0, 5), (5, 1, 5), (6, 2, 5), (1, 3, 5), (6, 4, 5)]\n",
      "DPNASNet_CIFAR is loaded.\n",
      "model params: 0.5294M\n"
     ]
    }
   ],
   "source": [
    "#### Load model\n",
    "model = src.utils.load_model(model_name=MODEL_NAME, n_classes=N_CLASSES).cuda() # Load model\n",
    "model = ModuleValidator.fix(model)\n",
    "ModuleValidator.validate(model, strict=False)\n",
    "\n",
    "pytorch_total_params = sum(p.numel() for p in model.parameters())\n",
    "\n",
    "print(\"model params: {:.4f}M\".format(pytorch_total_params/1000000))\n",
    "\n",
    "#### Define optimizer\n",
    "optimizer = torch.optim.SGD(model.parameters(),lr=LR, momentum=0.9)"
   ]
  },
  {
   "cell_type": "markdown",
   "id": "c49acb21",
   "metadata": {},
   "source": [
    "### Load PrivacyEngine from Opacus"
   ]
  },
  {
   "cell_type": "code",
   "execution_count": 6,
   "id": "1052ab28",
   "metadata": {},
   "outputs": [
    {
     "name": "stdout",
     "output_type": "stream",
     "text": [
      "Using sigma=1.8408203125 and C=0.1\n"
     ]
    }
   ],
   "source": [
    "privacy_engine = PrivacyEngine()\n",
    "\n",
    "model, optimizer, train_loader = privacy_engine.make_private_with_epsilon(\n",
    "    module=model,\n",
    "    optimizer=optimizer,\n",
    "    data_loader=train_loader,\n",
    "    epochs=EPOCHS,\n",
    "    target_epsilon=EPSILON,\n",
    "    target_delta=DELTA,\n",
    "    max_grad_norm=MAX_GRAD_NORM,\n",
    ")\n",
    "\n",
    "optimizer.target_epsilon = EPSILON\n",
    "optimizer.target_delta = DELTA\n",
    "\n",
    "print(f\"Using sigma={optimizer.noise_multiplier} and C={MAX_GRAD_NORM}\")\n",
    "# 2.0664\n",
    "\n",
    "rmodel = src.RobModel(model, n_classes=N_CLASSES, normalize=NORMALIZE).cuda()"
   ]
  },
  {
   "cell_type": "markdown",
   "id": "d84b5e92",
   "metadata": {},
   "source": [
    "### Start Training"
   ]
  },
  {
   "cell_type": "code",
   "execution_count": 7,
   "id": "d3eaf86b",
   "metadata": {
    "scrolled": true
   },
   "outputs": [],
   "source": [
    "importlib.reload(tr)\n",
    "\n",
    "trainer = tr.DpTrainer(NAME,rmodel)\n",
    "trainer.max_physical_batch_size = MAX_PHYSICAL_BATCH_SIZE\n",
    "trainer.record_rob(train_loader, test_loader)"
   ]
  },
  {
   "cell_type": "code",
   "execution_count": 8,
   "id": "1d606ba9",
   "metadata": {
    "scrolled": true
   },
   "outputs": [
    {
     "name": "stdout",
     "output_type": "stream",
     "text": [
      "[CIFAR10_DPNAS_EPS3]\n",
      "Training Information.\n",
      "-Epochs: 30\n",
      "-Optimizer: SGD (\n",
      "Parameter Group 0\n",
      "    dampening: 0\n",
      "    lr: 2\n",
      "    momentum: 0.9\n",
      "    nesterov: False\n",
      "    weight_decay: 0\n",
      ")\n",
      "-Scheduler: None\n",
      "-Save Path: ./saved/CIFAR10_DPNAS_EPS3\n",
      "-Save Type: None\n",
      "-Record Type: Epoch\n",
      "-Device: cuda:0\n",
      "----------------------------------------------------------\n",
      "Epoch   CALoss^p   Clean(Tr)   Clean(Val)   lr   Sec/it   \n",
      "==========================================================\n",
      "1       2.0424     36.8527     37.7800      2    0.3970   \n",
      "----------------------------------------------------------\n",
      "2       1.6803     45.2495     44.8500      2    0.6731   \n",
      "----------------------------------------------------------\n",
      "3       1.7365     48.0667     47.9100      2    0.6513   \n",
      "----------------------------------------------------------\n",
      "4       1.6374     50.6267     49.9100      2    0.6639   \n",
      "----------------------------------------------------------\n",
      "5       1.6274     55.9413     55.9600      2    0.6425   \n",
      "----------------------------------------------------------\n",
      "6       1.5986     58.5826     57.6200      2    0.6503   \n",
      "----------------------------------------------------------\n",
      "7       1.5755     61.0954     60.6000      2    0.6655   \n",
      "----------------------------------------------------------\n",
      "8       1.5710     62.3834     61.2900      2    0.6674   \n",
      "----------------------------------------------------------\n",
      "9       1.6743     61.6121     60.4000      2    0.6441   \n",
      "----------------------------------------------------------\n",
      "10      1.6287     63.2345     61.8700      2    0.6742   \n",
      "----------------------------------------------------------\n",
      "11      1.5534     64.9709     63.5400      2    0.6703   \n",
      "----------------------------------------------------------\n",
      "12      1.5917     64.0451     63.0600      2    0.6785   \n",
      "----------------------------------------------------------\n",
      "13      1.6830     64.4112     63.0500      2    0.6392   \n",
      "----------------------------------------------------------\n",
      "14      1.6422     67.3551     66.0100      2    0.5994   \n",
      "----------------------------------------------------------\n",
      "15      1.5780     67.6810     65.7900      2    0.6936   \n",
      "----------------------------------------------------------\n",
      "16      1.6163     66.2019     64.9000      2    0.6400   \n",
      "----------------------------------------------------------\n",
      "17      1.5722     67.5632     65.7500      2    0.6609   \n",
      "----------------------------------------------------------\n",
      "18      1.5775     68.4886     66.8600      2    0.6837   \n",
      "----------------------------------------------------------\n",
      "19      1.5669     69.1190     67.7000      2    0.6770   \n",
      "----------------------------------------------------------\n",
      "20      1.5722     69.0666     67.6100      2    0.6463   \n",
      "----------------------------------------------------------\n",
      "21      1.6414     68.4927     67.3100      2    0.6601   \n",
      "----------------------------------------------------------\n",
      "22      1.6334     69.2934     67.2600      2    0.6616   \n",
      "----------------------------------------------------------\n",
      "23      1.6597     69.2125     67.2700      2    0.6582   \n",
      "----------------------------------------------------------\n",
      "24      1.6206     69.6164     67.2200      2    0.6671   \n",
      "----------------------------------------------------------\n",
      "25      1.5945     70.1965     68.3300      2    0.6443   \n",
      "----------------------------------------------------------\n",
      "26      1.5989     69.7752     68.0400      2    0.6365   \n",
      "----------------------------------------------------------\n",
      "27      1.5450     71.2240     68.4600      2    0.6432   \n",
      "----------------------------------------------------------\n",
      "28      1.5733     71.4234     69.6600      2    0.6459   \n",
      "----------------------------------------------------------\n",
      "29      1.5268     71.4035     69.3200      2    0.6556   \n",
      "----------------------------------------------------------\n",
      "30      1.5597     71.7054     69.6200      2    0.7018   \n",
      "----------------------------------------------------------\n",
      "==========================================================\n",
      "Total Epoch: 30\n",
      "Start Time: 2023-07-23 16:59:18.247583\n",
      "Time Elapsed: 0:17:30.977468\n",
      "Min(epoch)/Max(epoch): \n",
      "-CALoss^p: 1.5268(29)/2.0424(1)\n",
      "-Clean(Tr): 36.8527(1)/71.7054(30)\n",
      "-Clean(Val): 37.7800(1)/69.6600(28)\n",
      "-lr: 2.0000(1)/2.0000(1)\n",
      "-Sec/it: 0.3970(1)/0.7018(30)\n",
      "----------------------------------------------------------\n"
     ]
    }
   ],
   "source": [
    "trainer.fit(train_loader=train_loader, max_epoch=EPOCHS, start_epoch=0,\n",
    "            optimizer=optimizer,\n",
    "            scheduler=None, scheduler_type=\"Epoch\",\n",
    "            minimizer=\"DPSAT(rho={})\".format(RHO),\n",
    "            save_path=SAVE_PATH, save_best={\"Clean(Val)\":\"HB\"},\n",
    "            save_type=None, save_overwrite=True, record_type=\"Epoch\")"
   ]
  },
  {
   "cell_type": "markdown",
   "id": "ebf1db40",
   "metadata": {},
   "source": [
    "### Evaluation"
   ]
  },
  {
   "cell_type": "code",
   "execution_count": 9,
   "id": "0145f440",
   "metadata": {
    "scrolled": false
   },
   "outputs": [
    {
     "name": "stdout",
     "output_type": "stream",
     "text": [
      "Model loaded.\n",
      "Record Info:\n",
      "OrderedDict([('Epoch', 30), ('CALoss^p', 1.5596732544898986), ('Clean(Tr)', 71.70541862089611), ('Clean(Val)', 69.62), ('lr', 2)])\n"
     ]
    },
    {
     "data": {
      "text/plain": [
       "69.62"
      ]
     },
     "execution_count": 9,
     "metadata": {},
     "output_type": "execute_result"
    }
   ],
   "source": [
    "rmodel.load_dict(PATH+NAME+'/last.pth')\n",
    "rmodel.eval_accuracy(test_loader)"
   ]
  },
  {
   "cell_type": "code",
   "execution_count": 10,
   "id": "f5737d86",
   "metadata": {
    "scrolled": false
   },
   "outputs": [
    {
     "name": "stdout",
     "output_type": "stream",
     "text": [
      "Model loaded.\n",
      "Record Info:\n",
      "OrderedDict([('Epoch', 28), ('CALoss^p', 1.5732993174482275), ('Clean(Tr)', 71.42340532395781), ('Clean(Val)', 69.66), ('lr', 2)])\n"
     ]
    },
    {
     "data": {
      "text/plain": [
       "69.66"
      ]
     },
     "execution_count": 10,
     "metadata": {},
     "output_type": "execute_result"
    }
   ],
   "source": [
    "rmodel.load_dict(PATH+NAME+'/best.pth')\n",
    "rmodel.eval_accuracy(test_loader)"
   ]
  },
  {
   "cell_type": "code",
   "execution_count": null,
   "id": "f8508f86",
   "metadata": {},
   "outputs": [],
   "source": []
  }
 ],
 "metadata": {
  "kernelspec": {
   "display_name": "dpsat",
   "language": "python",
   "name": "dpsat"
  },
  "language_info": {
   "codemirror_mode": {
    "name": "ipython",
    "version": 3
   },
   "file_extension": ".py",
   "mimetype": "text/x-python",
   "name": "python",
   "nbconvert_exporter": "python",
   "pygments_lexer": "ipython3",
   "version": "3.9.7"
  }
 },
 "nbformat": 4,
 "nbformat_minor": 5
}

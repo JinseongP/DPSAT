{
 "cells": [
  {
   "cell_type": "code",
   "execution_count": 1,
   "id": "2e1379b7",
   "metadata": {},
   "outputs": [],
   "source": [
    "import os\n",
    "import numpy as np\n",
    "import torch\n",
    "import warnings\n",
    "\n",
    "warnings.filterwarnings(\"ignore\")\n",
    "if os.getcwd()[-8:]=='examples':\n",
    "    os.chdir('..')\n",
    "\n",
    "os.environ[\"CUDA_VISIBLE_DEVICES\"] = \"3\" # Possible GPUS"
   ]
  },
  {
   "cell_type": "code",
   "execution_count": 2,
   "id": "4504274b",
   "metadata": {},
   "outputs": [],
   "source": [
    "import torch.nn as nn\n",
    "import torch.optim as optim\n",
    "import torchvision.transforms as transforms\n",
    "import importlib\n",
    "\n",
    "from opacus import PrivacyEngine\n",
    "from opacus.validators import ModuleValidator\n",
    "\n",
    "import src\n",
    "import src.trainer as tr"
   ]
  },
  {
   "cell_type": "markdown",
   "id": "45205af5",
   "metadata": {},
   "source": [
    "### Settings"
   ]
  },
  {
   "cell_type": "code",
   "execution_count": 3,
   "id": "7637d6b6",
   "metadata": {},
   "outputs": [],
   "source": [
    "#### FOR DP\n",
    "MAX_GRAD_NORM = 0.1\n",
    "EPSILON = 3.0\n",
    "DELTA = 1e-5\n",
    "\n",
    "#### FOR TRAINING\n",
    "LR = 2\n",
    "EPOCHS = 30\n",
    "BATCH_SIZE = 2048\n",
    "MAX_PHYSICAL_BATCH_SIZE = 1024\n",
    "RHO = 0.03\n",
    "\n",
    "#### FOR SAVE\n",
    "PATH = \"./saved/\"\n",
    "NAME = \"CIFAR10_DPNAS_DPSAT_EPS3\"\n",
    "SAVE_PATH = PATH + NAME\n",
    "\n",
    "### FOR MODELING\n",
    "MODEL_NAME = \"DPNASNet_CIFAR\"\n",
    "DATA = \"CIFAR10\"\n",
    "NORMALIZE = {'mean':[0.4914, 0.4822, 0.4465],\n",
    "             'std':[0.2023, 0.1994, 0.2010]}\n",
    "N_CLASSES = 10"
   ]
  },
  {
   "cell_type": "markdown",
   "id": "69d3fddb",
   "metadata": {},
   "source": [
    "### Data loader"
   ]
  },
  {
   "cell_type": "code",
   "execution_count": 4,
   "id": "8d2186ab",
   "metadata": {},
   "outputs": [
    {
     "name": "stdout",
     "output_type": "stream",
     "text": [
      "Files already downloaded and verified\n",
      "Files already downloaded and verified\n",
      "Data Loaded!\n",
      "Train Data Length : 50000\n",
      "Test Data Length : 10000\n"
     ]
    }
   ],
   "source": [
    "data = src.Datasets(data_name=DATA, train_transform = transforms.ToTensor())\n",
    "train_loader, test_loader = data.get_loader(batch_size=BATCH_SIZE, drop_last_train=False, num_workers=16)"
   ]
  },
  {
   "cell_type": "markdown",
   "id": "f44251a2",
   "metadata": {
    "id": "EcestuJGdLLM"
   },
   "source": [
    "### Model & Optimizer"
   ]
  },
  {
   "cell_type": "code",
   "execution_count": 5,
   "id": "5c05d5f9",
   "metadata": {
    "scrolled": true
   },
   "outputs": [
    {
     "name": "stdout",
     "output_type": "stream",
     "text": [
      "[(5, 0, 1), (1, 0, 2), (5, 1, 2), (6, 0, 3), (1, 1, 3), (0, 2, 3), (5, 0, 4), (0, 1, 4), (0, 2, 4), (3, 3, 4), (5, 0, 5), (5, 1, 5), (6, 2, 5), (1, 3, 5), (6, 4, 5)]\n",
      "DPNASNet_CIFAR is loaded.\n",
      "model params: 0.5294M\n"
     ]
    }
   ],
   "source": [
    "#### Load model\n",
    "model = src.utils.load_model(model_name=MODEL_NAME, n_classes=N_CLASSES).cuda() # Load model\n",
    "model = ModuleValidator.fix(model)\n",
    "ModuleValidator.validate(model, strict=False)\n",
    "\n",
    "pytorch_total_params = sum(p.numel() for p in model.parameters())\n",
    "\n",
    "print(\"model params: {:.4f}M\".format(pytorch_total_params/1000000))\n",
    "\n",
    "#### Define optimizer\n",
    "optimizer = torch.optim.SGD(model.parameters(),lr=LR, momentum=0.9)"
   ]
  },
  {
   "cell_type": "markdown",
   "id": "c49acb21",
   "metadata": {},
   "source": [
    "### Load PrivacyEngine from Opacus"
   ]
  },
  {
   "cell_type": "code",
   "execution_count": 6,
   "id": "1052ab28",
   "metadata": {},
   "outputs": [
    {
     "name": "stdout",
     "output_type": "stream",
     "text": [
      "Using sigma=1.8408203125 and C=0.1\n"
     ]
    }
   ],
   "source": [
    "privacy_engine = PrivacyEngine()\n",
    "\n",
    "model, optimizer, train_loader = privacy_engine.make_private_with_epsilon(\n",
    "    module=model,\n",
    "    optimizer=optimizer,\n",
    "    data_loader=train_loader,\n",
    "    epochs=EPOCHS,\n",
    "    target_epsilon=EPSILON,\n",
    "    target_delta=DELTA,\n",
    "    max_grad_norm=MAX_GRAD_NORM,\n",
    ")\n",
    "\n",
    "optimizer.target_epsilon = EPSILON\n",
    "optimizer.target_delta = DELTA\n",
    "\n",
    "print(f\"Using sigma={optimizer.noise_multiplier} and C={MAX_GRAD_NORM}\")\n",
    "# 2.0664\n",
    "\n",
    "rmodel = src.RobModel(model, n_classes=N_CLASSES, normalize=NORMALIZE).cuda()"
   ]
  },
  {
   "cell_type": "markdown",
   "id": "d84b5e92",
   "metadata": {},
   "source": [
    "### Start Training"
   ]
  },
  {
   "cell_type": "code",
   "execution_count": 7,
   "id": "d3eaf86b",
   "metadata": {
    "scrolled": true
   },
   "outputs": [],
   "source": [
    "importlib.reload(tr)\n",
    "\n",
    "trainer = tr.DpTrainer(NAME,rmodel)\n",
    "trainer.max_physical_batch_size = MAX_PHYSICAL_BATCH_SIZE\n",
    "trainer.record_rob(train_loader, test_loader)"
   ]
  },
  {
   "cell_type": "code",
   "execution_count": 8,
   "id": "1d606ba9",
   "metadata": {
    "scrolled": true
   },
   "outputs": [
    {
     "name": "stdout",
     "output_type": "stream",
     "text": [
      "Warning! Save file(s) will be overwritten:./saved/CIFAR10_DPNAS_DPSAT_EPS3\n",
      "Warning! Save file(s) will be overwritten:./saved/CIFAR10_DPNAS_DPSAT_EPS3/last.pth\n",
      "Warning! Save file(s) will be overwritten:./saved/CIFAR10_DPNAS_DPSAT_EPS3/best.pth\n",
      "Warning! Save file(s) will be overwritten:./saved/CIFAR10_DPNAS_DPSAT_EPS3/record.csv\n",
      "Warning! Save file(s) will be overwritten:./saved/CIFAR10_DPNAS_DPSAT_EPS3/summary.txt\n",
      "[CIFAR10_DPNAS_DPSAT_EPS3]\n",
      "Training Information.\n",
      "-Epochs: 30\n",
      "-Optimizer: SGD (\n",
      "Parameter Group 0\n",
      "    dampening: 0\n",
      "    lr: 2\n",
      "    momentum: 0.9\n",
      "    nesterov: False\n",
      "    weight_decay: 0\n",
      ")\n",
      "-Scheduler: None\n",
      "-Save Path: ./saved/CIFAR10_DPNAS_DPSAT_EPS3\n",
      "-Save Type: None\n",
      "-Record Type: Epoch\n",
      "-Device: cuda:0\n",
      "----------------------------------------------------------\n",
      "Epoch   CALoss^p   Clean(Tr)   Clean(Val)   lr   Sec/it   \n",
      "==========================================================\n",
      "1       2.0813     36.3982     36.9400      2    0.3963   \n",
      "----------------------------------------------------------\n",
      "2       1.7039     43.6067     44.1300      2    0.6533   \n",
      "----------------------------------------------------------\n",
      "3       1.7735     43.8273     44.8900      2    0.6579   \n",
      "----------------------------------------------------------\n",
      "4       1.7228     49.7865     49.0700      2    0.6044   \n",
      "----------------------------------------------------------\n",
      "5       1.6078     54.1143     54.4900      2    0.6488   \n",
      "----------------------------------------------------------\n",
      "6       1.6239     56.9609     56.6700      2    0.7291   \n",
      "----------------------------------------------------------\n",
      "7       1.6049     60.1324     59.4900      2    0.6601   \n",
      "----------------------------------------------------------\n",
      "8       1.6175     60.8378     60.6200      2    0.6613   \n",
      "----------------------------------------------------------\n",
      "9       1.5479     61.9108     61.7100      2    0.7102   \n",
      "----------------------------------------------------------\n",
      "10      1.5412     64.0432     63.1100      2    0.6822   \n",
      "----------------------------------------------------------\n",
      "11      1.5300     65.4926     64.7500      2    0.7270   \n",
      "----------------------------------------------------------\n",
      "12      1.5226     65.1047     64.2000      2    0.7021   \n",
      "----------------------------------------------------------\n",
      "13      1.6078     64.4810     63.8900      2    0.6923   \n",
      "----------------------------------------------------------\n",
      "14      1.7232     64.9048     64.3700      2    0.7094   \n",
      "----------------------------------------------------------\n",
      "15      1.6066     65.9782     65.3500      2    0.7072   \n",
      "----------------------------------------------------------\n",
      "16      1.5746     68.6440     67.4600      2    0.6932   \n",
      "----------------------------------------------------------\n",
      "17      1.5696     68.8382     67.6200      2    0.6933   \n",
      "----------------------------------------------------------\n",
      "18      1.5574     68.8094     67.7200      2    0.7549   \n",
      "----------------------------------------------------------\n",
      "19      1.5404     69.3349     68.2500      2    0.7142   \n",
      "----------------------------------------------------------\n",
      "20      1.5790     68.9426     67.8800      2    0.7485   \n",
      "----------------------------------------------------------\n",
      "21      1.6086     69.3709     68.0100      2    0.7212   \n",
      "----------------------------------------------------------\n",
      "22      1.5652     68.9537     68.3900      2    0.7441   \n",
      "----------------------------------------------------------\n",
      "23      1.5431     70.4223     68.8100      2    0.6751   \n",
      "----------------------------------------------------------\n",
      "24      1.6182     69.9382     68.7900      2    0.7247   \n",
      "----------------------------------------------------------\n",
      "25      1.6604     70.2614     68.7900      2    0.6779   \n",
      "----------------------------------------------------------\n",
      "26      1.6100     70.9054     69.2100      2    0.7179   \n",
      "----------------------------------------------------------\n",
      "27      1.5593     70.9586     69.2800      2    0.7340   \n",
      "----------------------------------------------------------\n",
      "28      1.5445     72.2321     70.2200      2    0.7176   \n",
      "----------------------------------------------------------\n",
      "29      1.5220     71.9030     69.9500      2    0.7204   \n",
      "----------------------------------------------------------\n",
      "30      1.5661     71.9162     69.9100      2    0.7063   \n",
      "----------------------------------------------------------\n",
      "==========================================================\n",
      "Total Epoch: 30\n",
      "Start Time: 2023-07-23 21:44:45.455239\n",
      "Time Elapsed: 0:18:41.586118\n",
      "Min(epoch)/Max(epoch): \n",
      "-CALoss^p: 1.5220(29)/2.0813(1)\n",
      "-Clean(Tr): 36.3982(1)/72.2321(28)\n",
      "-Clean(Val): 36.9400(1)/70.2200(28)\n",
      "-lr: 2.0000(1)/2.0000(1)\n",
      "-Sec/it: 0.3963(1)/0.7549(18)\n",
      "----------------------------------------------------------\n"
     ]
    }
   ],
   "source": [
    "trainer.fit(train_loader=train_loader, max_epoch=EPOCHS, start_epoch=0,\n",
    "            optimizer=optimizer,\n",
    "            scheduler=None, scheduler_type=\"Epoch\",\n",
    "            minimizer=\"DPSAT(rho={})\".format(RHO),\n",
    "            save_path=SAVE_PATH, save_best={\"Clean(Val)\":\"HB\"},\n",
    "            save_type=None, save_overwrite=True, record_type=\"Epoch\")"
   ]
  },
  {
   "cell_type": "markdown",
   "id": "ebf1db40",
   "metadata": {},
   "source": [
    "### Evaluation"
   ]
  },
  {
   "cell_type": "code",
   "execution_count": 9,
   "id": "0145f440",
   "metadata": {
    "scrolled": false
   },
   "outputs": [
    {
     "name": "stdout",
     "output_type": "stream",
     "text": [
      "Model loaded.\n",
      "Record Info:\n",
      "OrderedDict([('Epoch', 30), ('CALoss^p', 1.5660641755697862), ('Clean(Tr)', 71.91623120507738), ('Clean(Val)', 69.91), ('lr', 2)])\n"
     ]
    },
    {
     "data": {
      "text/plain": [
       "69.91"
      ]
     },
     "execution_count": 9,
     "metadata": {},
     "output_type": "execute_result"
    }
   ],
   "source": [
    "rmodel.load_dict(PATH+NAME+'/last.pth')\n",
    "rmodel.eval_accuracy(test_loader)"
   ]
  },
  {
   "cell_type": "code",
   "execution_count": 10,
   "id": "f5737d86",
   "metadata": {
    "scrolled": false
   },
   "outputs": [
    {
     "name": "stdout",
     "output_type": "stream",
     "text": [
      "Model loaded.\n",
      "Record Info:\n",
      "OrderedDict([('Epoch', 28), ('CALoss^p', 1.5445384612450233), ('Clean(Tr)', 72.23214994837582), ('Clean(Val)', 70.22), ('lr', 2)])\n"
     ]
    },
    {
     "data": {
      "text/plain": [
       "70.22"
      ]
     },
     "execution_count": 10,
     "metadata": {},
     "output_type": "execute_result"
    }
   ],
   "source": [
    "rmodel.load_dict(PATH+NAME+'/best.pth')\n",
    "rmodel.eval_accuracy(test_loader)"
   ]
  },
  {
   "cell_type": "code",
   "execution_count": null,
   "id": "f8508f86",
   "metadata": {},
   "outputs": [],
   "source": []
  }
 ],
 "metadata": {
  "kernelspec": {
   "display_name": "dpsat",
   "language": "python",
   "name": "dpsat"
  },
  "language_info": {
   "codemirror_mode": {
    "name": "ipython",
    "version": 3
   },
   "file_extension": ".py",
   "mimetype": "text/x-python",
   "name": "python",
   "nbconvert_exporter": "python",
   "pygments_lexer": "ipython3",
   "version": "3.9.7"
  }
 },
 "nbformat": 4,
 "nbformat_minor": 5
}

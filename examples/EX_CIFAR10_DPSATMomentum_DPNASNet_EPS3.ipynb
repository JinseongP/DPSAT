{
 "cells": [
  {
   "cell_type": "code",
   "execution_count": 1,
   "id": "2e1379b7",
   "metadata": {},
   "outputs": [],
   "source": [
    "import os\n",
    "import numpy as np\n",
    "import torch\n",
    "import warnings\n",
    "\n",
    "warnings.filterwarnings(\"ignore\")\n",
    "if os.getcwd()[-8:]=='examples':\n",
    "    os.chdir('..')\n",
    "\n",
    "os.environ[\"CUDA_VISIBLE_DEVICES\"] = \"1\" # Possible GPUS"
   ]
  },
  {
   "cell_type": "code",
   "execution_count": 2,
   "id": "4504274b",
   "metadata": {},
   "outputs": [],
   "source": [
    "import torch.nn as nn\n",
    "import torch.optim as optim\n",
    "import torchvision.transforms as transforms\n",
    "import importlib\n",
    "\n",
    "from opacus import PrivacyEngine\n",
    "from opacus.validators import ModuleValidator\n",
    "\n",
    "import src\n",
    "import src.trainer as tr"
   ]
  },
  {
   "cell_type": "markdown",
   "id": "45205af5",
   "metadata": {},
   "source": [
    "### Settings"
   ]
  },
  {
   "cell_type": "code",
   "execution_count": 3,
   "id": "7637d6b6",
   "metadata": {},
   "outputs": [],
   "source": [
    "#### FOR DP\n",
    "MAX_GRAD_NORM = 0.1\n",
    "EPSILON = 3.0\n",
    "DELTA = 1e-5\n",
    "\n",
    "#### FOR TRAINING\n",
    "LR = 2\n",
    "EPOCHS = 30\n",
    "BATCH_SIZE = 2048\n",
    "MAX_PHYSICAL_BATCH_SIZE = 1024\n",
    "RHO = 0.1\n",
    "\n",
    "#### FOR SAVE\n",
    "PATH = \"./saved/\"\n",
    "NAME = \"CIFAR10_DPNAS_DPSATMomentum\"\n",
    "SAVE_PATH = PATH + NAME\n",
    "\n",
    "### FOR MODELING\n",
    "MODEL_NAME = \"DPNASNet_CIFAR\"\n",
    "DATA = \"CIFAR10\"\n",
    "NORMALIZE = {'mean':[0.4914, 0.4822, 0.4465],\n",
    "             'std':[0.2023, 0.1994, 0.2010]}\n",
    "N_CLASSES = 10"
   ]
  },
  {
   "cell_type": "markdown",
   "id": "69d3fddb",
   "metadata": {},
   "source": [
    "### Data loader"
   ]
  },
  {
   "cell_type": "code",
   "execution_count": 4,
   "id": "8d2186ab",
   "metadata": {},
   "outputs": [
    {
     "name": "stdout",
     "output_type": "stream",
     "text": [
      "Files already downloaded and verified\n",
      "Files already downloaded and verified\n",
      "Data Loaded!\n",
      "Train Data Length : 50000\n",
      "Test Data Length : 10000\n"
     ]
    }
   ],
   "source": [
    "data = src.Datasets(data_name=DATA, train_transform = transforms.ToTensor())\n",
    "train_loader, test_loader = data.get_loader(batch_size=BATCH_SIZE, drop_last_train=False, num_workers=16)"
   ]
  },
  {
   "cell_type": "markdown",
   "id": "f44251a2",
   "metadata": {
    "id": "EcestuJGdLLM"
   },
   "source": [
    "### Model & Optimizer"
   ]
  },
  {
   "cell_type": "code",
   "execution_count": 5,
   "id": "5c05d5f9",
   "metadata": {
    "scrolled": true
   },
   "outputs": [
    {
     "name": "stdout",
     "output_type": "stream",
     "text": [
      "[(5, 0, 1), (1, 0, 2), (5, 1, 2), (6, 0, 3), (1, 1, 3), (0, 2, 3), (5, 0, 4), (0, 1, 4), (0, 2, 4), (3, 3, 4), (5, 0, 5), (5, 1, 5), (6, 2, 5), (1, 3, 5), (6, 4, 5)]\n",
      "DPNASNet_CIFAR is loaded.\n",
      "model params: 0.5294M\n"
     ]
    }
   ],
   "source": [
    "#### Load model\n",
    "model = src.utils.load_model(model_name=MODEL_NAME, n_classes=N_CLASSES).cuda() # Load model\n",
    "model = ModuleValidator.fix(model)\n",
    "ModuleValidator.validate(model, strict=False)\n",
    "\n",
    "pytorch_total_params = sum(p.numel() for p in model.parameters())\n",
    "\n",
    "print(\"model params: {:.4f}M\".format(pytorch_total_params/1000000))\n",
    "\n",
    "#### Define optimizer\n",
    "optimizer = torch.optim.SGD(model.parameters(),lr=LR, momentum=0.9)"
   ]
  },
  {
   "cell_type": "markdown",
   "id": "c49acb21",
   "metadata": {},
   "source": [
    "### Load PrivacyEngine from Opacus"
   ]
  },
  {
   "cell_type": "code",
   "execution_count": 6,
   "id": "1052ab28",
   "metadata": {},
   "outputs": [
    {
     "name": "stdout",
     "output_type": "stream",
     "text": [
      "Using sigma=1.8408203125 and C=0.1\n"
     ]
    }
   ],
   "source": [
    "privacy_engine = PrivacyEngine()\n",
    "\n",
    "model, optimizer, train_loader = privacy_engine.make_private_with_epsilon(\n",
    "    module=model,\n",
    "    optimizer=optimizer,\n",
    "    data_loader=train_loader,\n",
    "    epochs=EPOCHS,\n",
    "    target_epsilon=EPSILON,\n",
    "    target_delta=DELTA,\n",
    "    max_grad_norm=MAX_GRAD_NORM,\n",
    ")\n",
    "\n",
    "optimizer.target_epsilon = EPSILON\n",
    "optimizer.target_delta = DELTA\n",
    "\n",
    "print(f\"Using sigma={optimizer.noise_multiplier} and C={MAX_GRAD_NORM}\")\n",
    "# 2.0664\n",
    "\n",
    "rmodel = src.RobModel(model, n_classes=N_CLASSES, normalize=NORMALIZE).cuda()"
   ]
  },
  {
   "cell_type": "markdown",
   "id": "d84b5e92",
   "metadata": {},
   "source": [
    "### Start Training"
   ]
  },
  {
   "cell_type": "code",
   "execution_count": 7,
   "id": "d3eaf86b",
   "metadata": {
    "scrolled": true
   },
   "outputs": [],
   "source": [
    "importlib.reload(tr)\n",
    "\n",
    "trainer = tr.DpTrainer(NAME,rmodel)\n",
    "trainer.max_physical_batch_size = MAX_PHYSICAL_BATCH_SIZE\n",
    "trainer.record_rob(train_loader, test_loader)"
   ]
  },
  {
   "cell_type": "code",
   "execution_count": 8,
   "id": "1d606ba9",
   "metadata": {
    "scrolled": false
   },
   "outputs": [
    {
     "name": "stdout",
     "output_type": "stream",
     "text": [
      "Warning! Save file(s) will be overwritten:./saved/CIFAR10_DPNAS_DPSATMomentum\n",
      "Warning! Save file(s) will be overwritten:./saved/CIFAR10_DPNAS_DPSATMomentum/last.pth\n",
      "Warning! Save file(s) will be overwritten:./saved/CIFAR10_DPNAS_DPSATMomentum/best.pth\n",
      "Warning! Save file(s) will be overwritten:./saved/CIFAR10_DPNAS_DPSATMomentum/record.csv\n",
      "Warning! Save file(s) will be overwritten:./saved/CIFAR10_DPNAS_DPSATMomentum/summary.txt\n",
      "[CIFAR10_DPNAS_DPSATMomentum]\n",
      "Training Information.\n",
      "-Epochs: 30\n",
      "-Optimizer: SGD (\n",
      "Parameter Group 0\n",
      "    dampening: 0\n",
      "    lr: 2\n",
      "    momentum: 0.9\n",
      "    nesterov: False\n",
      "    weight_decay: 0\n",
      ")\n",
      "-Scheduler: None\n",
      "-Save Path: ./saved/CIFAR10_DPNAS_DPSATMomentum\n",
      "-Save Type: None\n",
      "-Record Type: Epoch\n",
      "-Device: cuda:0\n",
      "----------------------------------------------------------\n",
      "Epoch   CALoss^p   Clean(Tr)   Clean(Val)   lr   Sec/it   \n",
      "==========================================================\n",
      "1       2.0661     38.7102     39.4800      2    0.4139   \n",
      "----------------------------------------------------------\n",
      "2       1.6081     48.3054     48.5700      2    0.6644   \n",
      "----------------------------------------------------------\n",
      "3       1.5923     48.7777     49.3500      2    0.6683   \n",
      "----------------------------------------------------------\n",
      "4       1.5925     53.9690     53.7900      2    0.6435   \n",
      "----------------------------------------------------------\n",
      "5       1.5553     56.5821     56.4600      2    0.6641   \n",
      "----------------------------------------------------------\n",
      "6       1.5649     60.1831     59.0700      2    0.6430   \n",
      "----------------------------------------------------------\n",
      "7       1.5874     59.8698     59.2300      2    0.7056   \n",
      "----------------------------------------------------------\n",
      "8       1.6087     60.7408     59.8100      2    0.6745   \n",
      "----------------------------------------------------------\n",
      "9       1.5224     62.6746     62.3100      2    0.6448   \n",
      "----------------------------------------------------------\n",
      "10      1.5220     64.7832     63.9100      2    0.6710   \n",
      "----------------------------------------------------------\n",
      "11      1.4948     65.2373     64.4500      2    0.6001   \n",
      "----------------------------------------------------------\n",
      "12      1.4892     66.2688     64.9000      2    0.6797   \n",
      "----------------------------------------------------------\n",
      "13      1.5432     66.5594     65.0200      2    0.6228   \n",
      "----------------------------------------------------------\n",
      "14      1.5782     65.6477     63.9300      2    0.6584   \n",
      "----------------------------------------------------------\n",
      "15      1.5606     67.1989     65.5700      2    0.6517   \n",
      "----------------------------------------------------------\n",
      "16      1.5651     69.0246     67.8000      2    0.6185   \n",
      "----------------------------------------------------------\n",
      "17      1.5127     69.2603     67.3900      2    0.6524   \n",
      "----------------------------------------------------------\n",
      "18      1.5454     69.5659     68.1100      2    0.6703   \n",
      "----------------------------------------------------------\n",
      "19      1.5369     69.4010     68.2300      2    0.6261   \n",
      "----------------------------------------------------------\n",
      "20      1.5687     69.4588     67.5800      2    0.6754   \n",
      "----------------------------------------------------------\n",
      "21      1.5263     70.0478     68.4800      2    0.6664   \n",
      "----------------------------------------------------------\n",
      "22      1.5094     69.9614     68.7500      2    0.6191   \n",
      "----------------------------------------------------------\n",
      "23      1.5299     69.3957     67.7900      2    0.6520   \n",
      "----------------------------------------------------------\n",
      "24      1.5794     71.0288     69.3700      2    0.6903   \n",
      "----------------------------------------------------------\n",
      "25      1.5363     71.0353     69.6800      2    0.6696   \n",
      "----------------------------------------------------------\n",
      "26      1.5350     71.2529     69.0700      2    0.6554   \n",
      "----------------------------------------------------------\n",
      "27      1.5228     70.5421     68.9100      2    0.6449   \n",
      "----------------------------------------------------------\n",
      "28      1.6070     70.7802     68.6400      2    0.6782   \n",
      "----------------------------------------------------------\n",
      "29      1.5958     72.2591     70.2600      2    0.7188   \n",
      "----------------------------------------------------------\n",
      "30      1.5569     72.4283     70.4800      2    0.6857   \n",
      "----------------------------------------------------------\n",
      "==========================================================\n",
      "Total Epoch: 30\n",
      "Start Time: 2023-07-23 21:58:38.601616\n",
      "Time Elapsed: 0:17:33.224339\n",
      "Min(epoch)/Max(epoch): \n",
      "-CALoss^p: 1.4892(12)/2.0661(1)\n",
      "-Clean(Tr): 38.7102(1)/72.4283(30)\n",
      "-Clean(Val): 39.4800(1)/70.4800(30)\n",
      "-lr: 2.0000(1)/2.0000(1)\n",
      "-Sec/it: 0.4139(1)/0.7188(29)\n",
      "----------------------------------------------------------\n"
     ]
    }
   ],
   "source": [
    "trainer.fit(train_loader=train_loader, max_epoch=EPOCHS, start_epoch=0,\n",
    "            optimizer=optimizer,\n",
    "            scheduler=None, scheduler_type=\"Epoch\",\n",
    "            minimizer=\"DPSATMomentum(rho={})\".format(RHO),\n",
    "            save_path=SAVE_PATH, save_best={\"Clean(Val)\":\"HB\"},\n",
    "            save_type=None, save_overwrite=True, record_type=\"Epoch\")"
   ]
  },
  {
   "cell_type": "markdown",
   "id": "ebf1db40",
   "metadata": {},
   "source": [
    "### Evaluation"
   ]
  },
  {
   "cell_type": "code",
   "execution_count": 9,
   "id": "0145f440",
   "metadata": {
    "scrolled": false
   },
   "outputs": [
    {
     "name": "stdout",
     "output_type": "stream",
     "text": [
      "Model loaded.\n",
      "Record Info:\n",
      "OrderedDict([('Epoch', 30), ('CALoss^p', 1.5569005169958439), ('Clean(Tr)', 72.42827292453589), ('Clean(Val)', 70.48), ('lr', 2)])\n"
     ]
    },
    {
     "data": {
      "text/plain": [
       "70.48"
      ]
     },
     "execution_count": 9,
     "metadata": {},
     "output_type": "execute_result"
    }
   ],
   "source": [
    "rmodel.load_dict(PATH+NAME+'/last.pth')\n",
    "rmodel.eval_accuracy(test_loader)"
   ]
  },
  {
   "cell_type": "code",
   "execution_count": 10,
   "id": "f5737d86",
   "metadata": {
    "scrolled": false
   },
   "outputs": [
    {
     "name": "stdout",
     "output_type": "stream",
     "text": [
      "Model loaded.\n",
      "Record Info:\n",
      "OrderedDict([('Epoch', 30), ('CALoss^p', 1.5569005169958439), ('Clean(Tr)', 72.42827292453589), ('Clean(Val)', 70.48), ('lr', 2)])\n"
     ]
    },
    {
     "data": {
      "text/plain": [
       "70.48"
      ]
     },
     "execution_count": 10,
     "metadata": {},
     "output_type": "execute_result"
    }
   ],
   "source": [
    "rmodel.load_dict(PATH+NAME+'/best.pth')\n",
    "rmodel.eval_accuracy(test_loader)"
   ]
  },
  {
   "cell_type": "code",
   "execution_count": null,
   "id": "f8508f86",
   "metadata": {},
   "outputs": [],
   "source": []
  }
 ],
 "metadata": {
  "kernelspec": {
   "display_name": "dpsat",
   "language": "python",
   "name": "dpsat"
  },
  "language_info": {
   "codemirror_mode": {
    "name": "ipython",
    "version": 3
   },
   "file_extension": ".py",
   "mimetype": "text/x-python",
   "name": "python",
   "nbconvert_exporter": "python",
   "pygments_lexer": "ipython3",
   "version": "3.9.7"
  }
 },
 "nbformat": 4,
 "nbformat_minor": 5
}
